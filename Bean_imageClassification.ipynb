{
  "nbformat": 4,
  "nbformat_minor": 0,
  "metadata": {
    "colab": {
      "provenance": [],
      "authorship_tag": "ABX9TyMTEHxfYS4C9QKVbNJxsnoA",
      "include_colab_link": true
    },
    "kernelspec": {
      "name": "python3",
      "display_name": "Python 3"
    },
    "language_info": {
      "name": "python"
    }
  },
  "cells": [
    {
      "cell_type": "markdown",
      "metadata": {
        "id": "view-in-github",
        "colab_type": "text"
      },
      "source": [
        "<a href=\"https://colab.research.google.com/github/HayateSato/DS_Practice/blob/main/Bean_imageClassification.ipynb\" target=\"_parent\"><img src=\"https://colab.research.google.com/assets/colab-badge.svg\" alt=\"Open In Colab\"/></a>"
      ]
    },
    {
      "cell_type": "code",
      "source": [
        "import matplotlib.pyplot as plt\n",
        "import numpy as np\n",
        "\n",
        "import tensorflow as tf\n",
        "from tensorflow import keras\n",
        "from tensorflow.keras import layers\n",
        "\n",
        "import hashlib\n",
        "from collections import Counter # count the occurrences of each class label in image dataset\n",
        "from PIL import Image #image processing\n"
      ],
      "metadata": {
        "id": "a0ngNXNmQ98M"
      },
      "execution_count": 2,
      "outputs": []
    },
    {
      "cell_type": "code",
      "execution_count": 3,
      "metadata": {
        "colab": {
          "base_uri": "https://localhost:8080/"
        },
        "id": "Dc20DDkGO24_",
        "outputId": "1606eeff-f508-4099-ff41-2583252d7e31"
      },
      "outputs": [
        {
          "output_type": "stream",
          "name": "stdout",
          "text": [
            "Mounted at /content/drive\n"
          ]
        },
        {
          "output_type": "execute_result",
          "data": {
            "text/plain": [
              "['angular_leaf_spot', 'healthy', 'bean_rust']"
            ]
          },
          "metadata": {},
          "execution_count": 3
        }
      ],
      "source": [
        "import os\n",
        "from google.colab import drive\n",
        "drive.mount('/content/drive')\n",
        "\n",
        "train_path = f'/content/drive/MyDrive/Colab Notebooks/Dataset/Bean_leaf_dataset/train'\n",
        "test_path = f'/content/drive/MyDrive/Colab Notebooks/Dataset/Bean_leaf_dataset/test'\n",
        "vali_path = f'/content/drive/MyDrive/Colab Notebooks/Dataset/Bean_leaf_dataset/validation'\n",
        "\n",
        "working_dir = train_path\n",
        "os.chdir(working_dir)\n",
        "os.listdir(working_dir)"
      ]
    },
    {
      "cell_type": "markdown",
      "source": [
        "# EDA\n"
      ],
      "metadata": {
        "id": "0L6blEWayQXC"
      }
    },
    {
      "cell_type": "code",
      "source": [
        "# Create datasets for each split\n",
        "train_ds = tf.keras.utils.image_dataset_from_directory(train_path)\n",
        "val_ds = tf.keras.utils.image_dataset_from_directory(vali_path)\n",
        "test_ds = tf.keras.utils.image_dataset_from_directory(test_path)"
      ],
      "metadata": {
        "id": "wYMY53iARbxK",
        "colab": {
          "base_uri": "https://localhost:8080/"
        },
        "outputId": "01e4a411-422e-4297-f4b0-0e1f6ccc6b23"
      },
      "execution_count": 7,
      "outputs": [
        {
          "output_type": "stream",
          "name": "stdout",
          "text": [
            "Found 1034 files belonging to 3 classes.\n",
            "Found 133 files belonging to 3 classes.\n",
            "Found 128 files belonging to 3 classes.\n"
          ]
        }
      ]
    },
    {
      "cell_type": "code",
      "source": [
        "class_names = train_ds.class_names\n",
        "class_names"
      ],
      "metadata": {
        "id": "AyLYrOb5TUQG",
        "colab": {
          "base_uri": "https://localhost:8080/"
        },
        "outputId": "cae066d6-9e95-4051-af5c-a649d3752519"
      },
      "execution_count": 8,
      "outputs": [
        {
          "output_type": "execute_result",
          "data": {
            "text/plain": [
              "['angular_leaf_spot', 'bean_rust', 'healthy']"
            ]
          },
          "metadata": {},
          "execution_count": 8
        }
      ]
    },
    {
      "cell_type": "markdown",
      "source": [
        "Distribution of Classes.\n",
        "====\n",
        "\n",
        "Goal: Check if the dataset is balanced across the three classes: Angular Leaf Spot, Bean Rust, and Healthy."
      ],
      "metadata": {
        "id": "46S0C4QPYxfI"
      }
    },
    {
      "cell_type": "code",
      "source": [
        "# import numpy as np\n",
        "# from collections import Counter\n",
        "\n",
        "# Get class names from the dataset\n",
        "class_names = train_ds.class_names\n",
        "\n",
        "# Iterate through the dataset to collect labels\n",
        "class_labels = []\n",
        "for images, labels in train_ds:  # Unpack images and labels from the dataset\n",
        "    class_labels.extend(labels.numpy())  # Convert labels to NumPy array and extend the list\n",
        "\n",
        "class_counts = Counter(class_labels)\n",
        "\n",
        "# Print class distribution\n",
        "print(\"Class Distribution:\", class_counts)"
      ],
      "metadata": {
        "id": "1ue1bFZ6YgI8",
        "colab": {
          "base_uri": "https://localhost:8080/"
        },
        "outputId": "0ddd1058-d376-4405-fdcb-8f5002721023"
      },
      "execution_count": 9,
      "outputs": [
        {
          "output_type": "stream",
          "name": "stdout",
          "text": [
            "Class Distribution: Counter({1: 348, 0: 345, 2: 341})\n"
          ]
        }
      ]
    },
    {
      "cell_type": "code",
      "source": [
        "# Get class names from the dataset\n",
        "class_names = train_ds.class_names\n",
        "\n",
        "# Iterate through the train_ds to collect labels\n",
        "class_labels = []\n",
        "for images, labels in train_ds:  # Unpack images and labels from the dataset\n",
        "    class_labels.extend(labels.numpy())  # Convert labels to NumPy array and extend the list\n",
        "\n",
        "class_counts = Counter(class_labels)\n",
        "\n",
        "# Print class distribution with class names\n",
        "for label, count in class_counts.items():\n",
        "    print(f\"Class label {label}:  {class_names[label]}\")"
      ],
      "metadata": {
        "id": "iTnIpUh4VuCM",
        "colab": {
          "base_uri": "https://localhost:8080/"
        },
        "outputId": "8fcc7cce-8196-4928-f2b5-e8848ec7d0af"
      },
      "execution_count": 10,
      "outputs": [
        {
          "output_type": "stream",
          "name": "stdout",
          "text": [
            "Class label 1:  bean_rust\n",
            "Class label 0:  angular_leaf_spot\n",
            "Class label 2:  healthy\n"
          ]
        }
      ]
    },
    {
      "cell_type": "code",
      "source": [],
      "metadata": {
        "id": "3vAxwLu12CYx"
      },
      "execution_count": null,
      "outputs": []
    },
    {
      "cell_type": "code",
      "source": [],
      "metadata": {
        "id": "0mG7jZw21-JW"
      },
      "execution_count": null,
      "outputs": []
    }
  ]
}