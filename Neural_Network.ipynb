{
  "nbformat": 4,
  "nbformat_minor": 0,
  "metadata": {
    "colab": {
      "provenance": [],
      "authorship_tag": "ABX9TyMm7w5NeCSxJ7ZzYyJIgFz3",
      "include_colab_link": true
    },
    "kernelspec": {
      "name": "python3",
      "display_name": "Python 3"
    },
    "language_info": {
      "name": "python"
    }
  },
  "cells": [
    {
      "cell_type": "markdown",
      "metadata": {
        "id": "view-in-github",
        "colab_type": "text"
      },
      "source": [
        "<a href=\"https://colab.research.google.com/github/HayateSato/DS_Practice/blob/main/Neural_Network.ipynb\" target=\"_parent\"><img src=\"https://colab.research.google.com/assets/colab-badge.svg\" alt=\"Open In Colab\"/></a>"
      ]
    },
    {
      "cell_type": "markdown",
      "source": [
        "- Number of Samples:\n",
        "  - Training set: 60,000 images\n",
        "  - Test set: 10,000 images\n",
        "\n",
        "- Image Dimensions:\n",
        "  - Each image is 28x28 pixels in grayscale.\n",
        "\n",
        "- Classes:\n",
        "  - The dataset is labeled into 10 classes, representing the digits from 0 to 9.\n",
        "  - The image has numbers from 0 to 9\n",
        "- Format:\n",
        "  - Each image is stored as a 2D numpy array of shape (28, 28), and labels are stored as integers corresponding to the digit shown in the image.\n"
      ],
      "metadata": {
        "id": "K-TWtb0FLVFa"
      }
    },
    {
      "cell_type": "markdown",
      "source": [],
      "metadata": {
        "id": "hRNbWA1X0Cxy"
      }
    },
    {
      "cell_type": "code",
      "source": [
        "import tensorflow as tf\n",
        "from tensorflow.keras import layers, models, datasets\n",
        "\n",
        "# Load MNIST dataset\n",
        "(x_train, y_train), (x_test, y_test) = datasets.mnist.load_data()\n",
        "x_train, x_test = x_train / 255.0, x_test / 255.0  # Normalize pixel values\n",
        "\n",
        "\n",
        "\n",
        "# Define the model architecture\n",
        "model = models.Sequential([\n",
        "    layers.Flatten(input_shape=(28, 28)),  # Input layer to flatten the images / flattening the matrix into 784 rows\n",
        "    layers.Dense(128, activation='relu'),  # Hidden layer with ReLU activation 784 --> 128\n",
        "    layers.Dense(64, activation='sigmoid'),  # Hidden layer with Sigmoid activation\n",
        "    layers.Dense(10, activation='softmax')  # Output layer with Softmax activation for classification\n",
        "])\n",
        "\n",
        "# Compile the model\n",
        "model.compile(optimizer='adam',\n",
        "              loss='sparse_categorical_crossentropy',\n",
        "              metrics=['accuracy'])\n",
        "\n",
        "# Train the model\n",
        "model.fit(x_train, y_train, epochs=5, batch_size=32)\n",
        "\n",
        "# Evaluate the model\n",
        "test_loss, test_acc = model.evaluate(x_test, y_test, verbose=2)\n",
        "print(f'\\nTest accuracy: {test_acc}')\n"
      ],
      "metadata": {
        "colab": {
          "base_uri": "https://localhost:8080/"
        },
        "id": "kakVzlg9RM49",
        "outputId": "b3425641-4e60-4e24-c3f8-1e4b0d5341b6"
      },
      "execution_count": null,
      "outputs": [
        {
          "output_type": "stream",
          "name": "stdout",
          "text": [
            "Epoch 1/5\n",
            "\u001b[1m1875/1875\u001b[0m \u001b[32m━━━━━━━━━━━━━━━━━━━━\u001b[0m\u001b[37m\u001b[0m \u001b[1m8s\u001b[0m 4ms/step - accuracy: 0.8422 - loss: 0.6145\n",
            "Epoch 2/5\n",
            "\u001b[1m1875/1875\u001b[0m \u001b[32m━━━━━━━━━━━━━━━━━━━━\u001b[0m\u001b[37m\u001b[0m \u001b[1m9s\u001b[0m 5ms/step - accuracy: 0.9612 - loss: 0.1310\n",
            "Epoch 3/5\n",
            "\u001b[1m1875/1875\u001b[0m \u001b[32m━━━━━━━━━━━━━━━━━━━━\u001b[0m\u001b[37m\u001b[0m \u001b[1m10s\u001b[0m 4ms/step - accuracy: 0.9766 - loss: 0.0798\n",
            "Epoch 4/5\n",
            "\u001b[1m1875/1875\u001b[0m \u001b[32m━━━━━━━━━━━━━━━━━━━━\u001b[0m\u001b[37m\u001b[0m \u001b[1m7s\u001b[0m 3ms/step - accuracy: 0.9826 - loss: 0.0580\n",
            "Epoch 5/5\n",
            "\u001b[1m1875/1875\u001b[0m \u001b[32m━━━━━━━━━━━━━━━━━━━━\u001b[0m\u001b[37m\u001b[0m \u001b[1m9s\u001b[0m 5ms/step - accuracy: 0.9879 - loss: 0.0422\n",
            "313/313 - 1s - 2ms/step - accuracy: 0.9760 - loss: 0.0783\n",
            "\n",
            "Test accuracy: 0.9760000109672546\n"
          ]
        }
      ]
    },
    {
      "cell_type": "code",
      "execution_count": null,
      "metadata": {
        "id": "67P0VzXP_7Wd",
        "colab": {
          "base_uri": "https://localhost:8080/"
        },
        "outputId": "194ed4a9-ab1d-4346-fd2c-4a98de69876f"
      },
      "outputs": [
        {
          "output_type": "stream",
          "name": "stderr",
          "text": [
            "/usr/local/lib/python3.10/dist-packages/keras/src/layers/reshaping/flatten.py:37: UserWarning: Do not pass an `input_shape`/`input_dim` argument to a layer. When using Sequential models, prefer using an `Input(shape)` object as the first layer in the model instead.\n",
            "  super().__init__(**kwargs)\n"
          ]
        },
        {
          "output_type": "stream",
          "name": "stdout",
          "text": [
            "Epoch 1/5\n",
            "\u001b[1m1875/1875\u001b[0m \u001b[32m━━━━━━━━━━━━━━━━━━━━\u001b[0m\u001b[37m\u001b[0m \u001b[1m21s\u001b[0m 10ms/step - accuracy: 0.8776 - loss: 0.4689\n",
            "Epoch 2/5\n",
            "\u001b[1m1875/1875\u001b[0m \u001b[32m━━━━━━━━━━━━━━━━━━━━\u001b[0m\u001b[37m\u001b[0m \u001b[1m15s\u001b[0m 8ms/step - accuracy: 0.9738 - loss: 0.0900\n",
            "Epoch 3/5\n",
            "\u001b[1m1875/1875\u001b[0m \u001b[32m━━━━━━━━━━━━━━━━━━━━\u001b[0m\u001b[37m\u001b[0m \u001b[1m15s\u001b[0m 8ms/step - accuracy: 0.9843 - loss: 0.0539\n",
            "Epoch 4/5\n",
            "\u001b[1m1875/1875\u001b[0m \u001b[32m━━━━━━━━━━━━━━━━━━━━\u001b[0m\u001b[37m\u001b[0m \u001b[1m16s\u001b[0m 9ms/step - accuracy: 0.9899 - loss: 0.0341\n",
            "Epoch 5/5\n",
            "\u001b[1m1875/1875\u001b[0m \u001b[32m━━━━━━━━━━━━━━━━━━━━\u001b[0m\u001b[37m\u001b[0m \u001b[1m19s\u001b[0m 8ms/step - accuracy: 0.9931 - loss: 0.0236\n",
            "313/313 - 1s - 4ms/step - accuracy: 0.9788 - loss: 0.0664\n",
            "\n",
            "Test accuracy: 0.9787999987602234\n"
          ]
        }
      ],
      "source": [
        "import tensorflow as tf\n",
        "from tensorflow.keras import layers, models, datasets\n",
        "\n",
        "# Load MNIST dataset\n",
        "(x_train, y_train), (x_test, y_test) = datasets.mnist.load_data()\n",
        "x_train, x_test = x_train / 255.0, x_test / 255.0  # Normalize pixel values\n",
        "\n",
        "\n",
        "\n",
        "# Define the model architecture\n",
        "model = models.Sequential([\n",
        "    layers.Flatten(input_shape=(28, 28)),  # Input layer to flatten the images / flattening the matrix into 784 rows\n",
        "    layers.Dense(500, activation='relu'),  # Hidden layer with ReLU activation 784 --> 128\n",
        "    layers.Dense(64, activation='sigmoid'),  # Hidden layer with Sigmoid activation\n",
        "    layers.Dense(10, activation='softmax')  # Output layer with Softmax activation for classification\n",
        "])\n",
        "\n",
        "# Compile the model\n",
        "model.compile(optimizer='adam',\n",
        "              loss='sparse_categorical_crossentropy',\n",
        "              metrics=['accuracy'])\n",
        "\n",
        "# Train the model\n",
        "model.fit(x_train, y_train, epochs=5, batch_size=32)\n",
        "\n",
        "# Evaluate the model\n",
        "test_loss, test_acc = model.evaluate(x_test, y_test, verbose=2)\n",
        "print(f'\\nTest accuracy: {test_acc}')\n"
      ]
    },
    {
      "cell_type": "code",
      "source": [
        "import tensorflow as tf\n",
        "from tensorflow.keras import layers, models, datasets\n",
        "\n",
        "# Load MNIST dataset\n",
        "(x_train, y_train), (x_test, y_test) = datasets.mnist.load_data()\n",
        "x_train, x_test = x_train / 255.0, x_test / 255.0  # Normalize pixel values\n",
        "\n",
        "\n",
        "\n",
        "# Define the model architecture\n",
        "model = models.Sequential([\n",
        "    layers.Flatten(input_shape=(28, 28)),  # Input layer to flatten the images / flattening the matrix into 784 rows\n",
        "    layers.Dense(500, activation='relu'),  # Hidden layer with ReLU activation 784 --> 128\n",
        "    layers.Dense(64, activation='sigmoid'),  # Hidden layer with Sigmoid activation\n",
        "    layers.Dense(10, activation='softmax')  # Output layer with Softmax activation for classification\n",
        "])\n",
        "\n",
        "# Compile the model\n",
        "model.compile(optimizer='adam',\n",
        "              loss='sparse_categorical_crossentropy',\n",
        "              metrics=['accuracy'])\n",
        "\n",
        "# Train the model\n",
        "model.fit(x_train, y_train, epochs=5, batch_size=16)\n",
        "\n",
        "# Evaluate the model\n",
        "test_loss, test_acc = model.evaluate(x_test, y_test, verbose=2)\n",
        "print(f'\\nTest accuracy: {test_acc}')\n"
      ],
      "metadata": {
        "colab": {
          "base_uri": "https://localhost:8080/"
        },
        "id": "w7eLv05yNY7S",
        "outputId": "4b090ce6-2f50-4203-bbea-c0473c61741a"
      },
      "execution_count": null,
      "outputs": [
        {
          "output_type": "stream",
          "name": "stdout",
          "text": [
            "Epoch 1/5\n",
            "\u001b[1m3750/3750\u001b[0m \u001b[32m━━━━━━━━━━━━━━━━━━━━\u001b[0m\u001b[37m\u001b[0m \u001b[1m25s\u001b[0m 6ms/step - accuracy: 0.8976 - loss: 0.3978\n",
            "Epoch 2/5\n",
            "\u001b[1m3750/3750\u001b[0m \u001b[32m━━━━━━━━━━━━━━━━━━━━\u001b[0m\u001b[37m\u001b[0m \u001b[1m23s\u001b[0m 6ms/step - accuracy: 0.9748 - loss: 0.0834\n",
            "Epoch 3/5\n",
            "\u001b[1m3750/3750\u001b[0m \u001b[32m━━━━━━━━━━━━━━━━━━━━\u001b[0m\u001b[37m\u001b[0m \u001b[1m41s\u001b[0m 6ms/step - accuracy: 0.9825 - loss: 0.0562\n",
            "Epoch 4/5\n",
            "\u001b[1m3750/3750\u001b[0m \u001b[32m━━━━━━━━━━━━━━━━━━━━\u001b[0m\u001b[37m\u001b[0m \u001b[1m41s\u001b[0m 6ms/step - accuracy: 0.9898 - loss: 0.0347\n",
            "Epoch 5/5\n",
            "\u001b[1m3750/3750\u001b[0m \u001b[32m━━━━━━━━━━━━━━━━━━━━\u001b[0m\u001b[37m\u001b[0m \u001b[1m25s\u001b[0m 7ms/step - accuracy: 0.9917 - loss: 0.0255\n",
            "313/313 - 1s - 2ms/step - accuracy: 0.9790 - loss: 0.0712\n",
            "\n",
            "Test accuracy: 0.9789999723434448\n"
          ]
        }
      ]
    },
    {
      "cell_type": "markdown",
      "source": [
        "DIfferent commbination of activation functions\n",
        "====================="
      ],
      "metadata": {
        "id": "3Tg_gD4eav8n"
      }
    },
    {
      "cell_type": "code",
      "source": [
        "import tensorflow as tf\n",
        "from tensorflow.keras import layers, models, datasets\n",
        "\n",
        "# Load MNIST dataset\n",
        "(x_train, y_train), (x_test, y_test) = datasets.mnist.load_data()\n",
        "x_train, x_test = x_train / 255.0, x_test / 255.0  # Normalize pixel values\n",
        "\n",
        "\n",
        "\n",
        "# Define the model architecture\n",
        "model = models.Sequential([\n",
        "    layers.Flatten(input_shape=(28, 28)),  # Input layer to flatten the images / flattening the matrix into 784 rows\n",
        "    layers.Dense(128, activation='sigmoid'),  # Hidden layer with ReLU activation 784 --> 128\n",
        "    layers.Dense(64, activation='sigmoid'),  # Hidden layer with Sigmoid activation\n",
        "    layers.Dense(10, activation='softmax')  # Output layer with Softmax activation for classification\n",
        "])\n",
        "\n",
        "# Compile the model\n",
        "model.compile(optimizer='adam',\n",
        "              loss='sparse_categorical_crossentropy',\n",
        "              metrics=['accuracy'])\n",
        "\n",
        "# Train the model\n",
        "model.fit(x_train, y_train, epochs=5, batch_size=32)\n",
        "\n",
        "# Evaluate the model\n",
        "test_loss, test_acc = model.evaluate(x_test, y_test, verbose=2)\n",
        "print(f'\\nTest accuracy: {test_acc}')\n"
      ],
      "metadata": {
        "colab": {
          "base_uri": "https://localhost:8080/"
        },
        "id": "pm47Z7PHavHY",
        "outputId": "335fe12a-575c-4eea-98ea-e8229b131bb3"
      },
      "execution_count": null,
      "outputs": [
        {
          "output_type": "stream",
          "name": "stdout",
          "text": [
            "Epoch 1/5\n",
            "\u001b[1m1875/1875\u001b[0m \u001b[32m━━━━━━━━━━━━━━━━━━━━\u001b[0m\u001b[37m\u001b[0m \u001b[1m9s\u001b[0m 5ms/step - accuracy: 0.7894 - loss: 0.8677\n",
            "Epoch 2/5\n",
            "\u001b[1m1875/1875\u001b[0m \u001b[32m━━━━━━━━━━━━━━━━━━━━\u001b[0m\u001b[37m\u001b[0m \u001b[1m8s\u001b[0m 4ms/step - accuracy: 0.9443 - loss: 0.1898\n",
            "Epoch 3/5\n",
            "\u001b[1m1875/1875\u001b[0m \u001b[32m━━━━━━━━━━━━━━━━━━━━\u001b[0m\u001b[37m\u001b[0m \u001b[1m10s\u001b[0m 3ms/step - accuracy: 0.9621 - loss: 0.1297\n",
            "Epoch 4/5\n",
            "\u001b[1m1875/1875\u001b[0m \u001b[32m━━━━━━━━━━━━━━━━━━━━\u001b[0m\u001b[37m\u001b[0m \u001b[1m8s\u001b[0m 4ms/step - accuracy: 0.9730 - loss: 0.0936\n",
            "Epoch 5/5\n",
            "\u001b[1m1875/1875\u001b[0m \u001b[32m━━━━━━━━━━━━━━━━━━━━\u001b[0m\u001b[37m\u001b[0m \u001b[1m10s\u001b[0m 4ms/step - accuracy: 0.9787 - loss: 0.0727\n",
            "313/313 - 1s - 3ms/step - accuracy: 0.9746 - loss: 0.0845\n",
            "\n",
            "Test accuracy: 0.9746000170707703\n"
          ]
        }
      ]
    },
    {
      "cell_type": "code",
      "source": [],
      "metadata": {
        "id": "BKDk33VVavQX"
      },
      "execution_count": null,
      "outputs": []
    },
    {
      "cell_type": "code",
      "source": [],
      "metadata": {
        "id": "-AHLXOYHavTn"
      },
      "execution_count": null,
      "outputs": []
    },
    {
      "cell_type": "code",
      "source": [
        "print(y_train)\n",
        "\n",
        "print(y_train.shape)\n",
        "print(y_test.shape)"
      ],
      "metadata": {
        "colab": {
          "base_uri": "https://localhost:8080/"
        },
        "id": "Sz3-xQvBBF05",
        "outputId": "a990130a-08bd-458c-88ac-66348f23a9fb"
      },
      "execution_count": null,
      "outputs": [
        {
          "output_type": "stream",
          "name": "stdout",
          "text": [
            "[5 0 4 ... 5 6 8]\n",
            "(60000,)\n",
            "(10000,)\n"
          ]
        }
      ]
    },
    {
      "cell_type": "code",
      "source": [
        "print(x_train)\n",
        "\n",
        "print(x_train.shape)\n",
        "print(x_test.shape)"
      ],
      "metadata": {
        "colab": {
          "base_uri": "https://localhost:8080/"
        },
        "id": "SFVRhfk_BF36",
        "outputId": "4a08bded-09ae-4150-f91c-547da8ddffac"
      },
      "execution_count": null,
      "outputs": [
        {
          "output_type": "stream",
          "name": "stdout",
          "text": [
            "[[[0. 0. 0. ... 0. 0. 0.]\n",
            "  [0. 0. 0. ... 0. 0. 0.]\n",
            "  [0. 0. 0. ... 0. 0. 0.]\n",
            "  ...\n",
            "  [0. 0. 0. ... 0. 0. 0.]\n",
            "  [0. 0. 0. ... 0. 0. 0.]\n",
            "  [0. 0. 0. ... 0. 0. 0.]]\n",
            "\n",
            " [[0. 0. 0. ... 0. 0. 0.]\n",
            "  [0. 0. 0. ... 0. 0. 0.]\n",
            "  [0. 0. 0. ... 0. 0. 0.]\n",
            "  ...\n",
            "  [0. 0. 0. ... 0. 0. 0.]\n",
            "  [0. 0. 0. ... 0. 0. 0.]\n",
            "  [0. 0. 0. ... 0. 0. 0.]]\n",
            "\n",
            " [[0. 0. 0. ... 0. 0. 0.]\n",
            "  [0. 0. 0. ... 0. 0. 0.]\n",
            "  [0. 0. 0. ... 0. 0. 0.]\n",
            "  ...\n",
            "  [0. 0. 0. ... 0. 0. 0.]\n",
            "  [0. 0. 0. ... 0. 0. 0.]\n",
            "  [0. 0. 0. ... 0. 0. 0.]]\n",
            "\n",
            " ...\n",
            "\n",
            " [[0. 0. 0. ... 0. 0. 0.]\n",
            "  [0. 0. 0. ... 0. 0. 0.]\n",
            "  [0. 0. 0. ... 0. 0. 0.]\n",
            "  ...\n",
            "  [0. 0. 0. ... 0. 0. 0.]\n",
            "  [0. 0. 0. ... 0. 0. 0.]\n",
            "  [0. 0. 0. ... 0. 0. 0.]]\n",
            "\n",
            " [[0. 0. 0. ... 0. 0. 0.]\n",
            "  [0. 0. 0. ... 0. 0. 0.]\n",
            "  [0. 0. 0. ... 0. 0. 0.]\n",
            "  ...\n",
            "  [0. 0. 0. ... 0. 0. 0.]\n",
            "  [0. 0. 0. ... 0. 0. 0.]\n",
            "  [0. 0. 0. ... 0. 0. 0.]]\n",
            "\n",
            " [[0. 0. 0. ... 0. 0. 0.]\n",
            "  [0. 0. 0. ... 0. 0. 0.]\n",
            "  [0. 0. 0. ... 0. 0. 0.]\n",
            "  ...\n",
            "  [0. 0. 0. ... 0. 0. 0.]\n",
            "  [0. 0. 0. ... 0. 0. 0.]\n",
            "  [0. 0. 0. ... 0. 0. 0.]]]\n",
            "(60000, 28, 28)\n",
            "(10000, 28, 28)\n"
          ]
        }
      ]
    },
    {
      "cell_type": "code",
      "source": [
        "# import numpy as np\n",
        "# import matplotlib.pyplot as plt\n",
        "\n",
        "# # Generate synthetic time-series data (sine wave)\n",
        "# def generate_time_series(length, num_samples=1000):\n",
        "#     time = np.arange(0, length)\n",
        "#     sine_wave = np.sin(0.1 * time)\n",
        "#     data = np.array([sine_wave + 0.05 * np.random.randn(len(sine_wave)) for _ in range(num_samples)])\n",
        "#     return data\n",
        "\n",
        "# # Data parameters\n",
        "# time_series_length = 100\n",
        "# num_samples = 1000\n"
      ],
      "metadata": {
        "id": "InNAG8KzBF6p"
      },
      "execution_count": null,
      "outputs": []
    },
    {
      "cell_type": "code",
      "source": [
        "# # Generate data\n",
        "# data = generate_time_series(time_series_length, num_samples)\n"
      ],
      "metadata": {
        "id": "GqXDW65iTmf0"
      },
      "execution_count": null,
      "outputs": []
    },
    {
      "cell_type": "code",
      "source": [
        "# # Train-test split\n",
        "# split_ratio = 0.8\n",
        "# train_size = int(split_ratio * num_samples)\n",
        "# train_data = data[:train_size]\n",
        "# test_data = data[train_size:]\n",
        "\n"
      ],
      "metadata": {
        "id": "9EOuO8v6TiXT"
      },
      "execution_count": null,
      "outputs": []
    },
    {
      "cell_type": "code",
      "source": [
        "# # Prepare the input and output (RNN needs input sequences and corresponding next steps)\n",
        "# def create_sequences(data, seq_length):\n",
        "#     X, y = [], []\n",
        "#     for i in range(len(data) - seq_length):\n",
        "#         X.append(data[i:i+seq_length])\n",
        "#         y.append(data[i+seq_length])\n",
        "#     return np.array(X), np.array(y)\n",
        "\n",
        "# # Set sequence length\n",
        "# sequence_length = 10\n",
        "\n",
        "# # Create sequences for training and testing\n",
        "# X_train, y_train = create_sequences(train_data, sequence_length)\n",
        "# X_test, y_test = create_sequences(test_data, sequence_length)\n",
        "\n",
        "# print(X_train.shape)"
      ],
      "metadata": {
        "colab": {
          "base_uri": "https://localhost:8080/"
        },
        "id": "9Bso4UV9TvfQ",
        "outputId": "64f9bddf-fdc0-4430-f954-04c70b5edb0b"
      },
      "execution_count": null,
      "outputs": [
        {
          "output_type": "stream",
          "name": "stdout",
          "text": [
            "(790, 10, 100)\n"
          ]
        }
      ]
    },
    {
      "cell_type": "code",
      "source": [
        "# # Reshape for LSTM input (samples, time_steps, features)\n",
        "# X_train = np.reshape(X_train, (X_train.shape[0], sequence_length, 100))\n",
        "# X_test = np.reshape(X_test, (X_test.shape[0], sequence_length, 100))"
      ],
      "metadata": {
        "id": "aexURRuYTx26"
      },
      "execution_count": null,
      "outputs": []
    },
    {
      "cell_type": "code",
      "source": [
        "# import tensorflow as tf\n",
        "# from tensorflow.keras.models import Sequential\n",
        "# from tensorflow.keras.layers import LSTM, Dense, Dropout\n",
        "\n",
        "# # Define the model\n",
        "# model = Sequential()\n",
        "\n",
        "# # LSTM_layer(units = 50), input_shape = (sequence_length, 1)\n",
        "# model.add(LSTM(units=50, return_sequences=True, input_shape=(sequence_length, 1)))\n",
        "# model.add(Dropout(0.2))  # Regularization to prevent overfitting\n",
        "\n",
        "# # Second LSTM layer\n",
        "# model.add(LSTM(units=50, return_sequences=False))\n",
        "# model.add(Dropout(0.2))\n",
        "\n",
        "# # Output layer (single value prediction for the next time step)\n",
        "# model.add(Dense(units=1))\n",
        "\n",
        "# # Compile the model\n",
        "# model.compile(optimizer='adam', loss='mean_squared_error')\n",
        "\n",
        "# # Summary of the model\n",
        "# model.summary()\n",
        "\n",
        "\n",
        "\n",
        "# # Train the model\n",
        "\n",
        "# history = model.fit(X_train, y_train, epochs=20, batch_size=64, validation_data=(X_test, y_test))\n"
      ],
      "metadata": {
        "colab": {
          "base_uri": "https://localhost:8080/",
          "height": 787
        },
        "id": "-KCs-vOPRu-i",
        "outputId": "de65696b-1e8a-4436-ca1a-2cdcc9bd3f2b"
      },
      "execution_count": null,
      "outputs": [
        {
          "output_type": "display_data",
          "data": {
            "text/plain": [
              "\u001b[1mModel: \"sequential_6\"\u001b[0m\n"
            ],
            "text/html": [
              "<pre style=\"white-space:pre;overflow-x:auto;line-height:normal;font-family:Menlo,'DejaVu Sans Mono',consolas,'Courier New',monospace\"><span style=\"font-weight: bold\">Model: \"sequential_6\"</span>\n",
              "</pre>\n"
            ]
          },
          "metadata": {}
        },
        {
          "output_type": "display_data",
          "data": {
            "text/plain": [
              "┏━━━━━━━━━━━━━━━━━━━━━━━━━━━━━━━━━━━━━━┳━━━━━━━━━━━━━━━━━━━━━━━━━━━━━┳━━━━━━━━━━━━━━━━━┓\n",
              "┃\u001b[1m \u001b[0m\u001b[1mLayer (type)                        \u001b[0m\u001b[1m \u001b[0m┃\u001b[1m \u001b[0m\u001b[1mOutput Shape               \u001b[0m\u001b[1m \u001b[0m┃\u001b[1m \u001b[0m\u001b[1m        Param #\u001b[0m\u001b[1m \u001b[0m┃\n",
              "┡━━━━━━━━━━━━━━━━━━━━━━━━━━━━━━━━━━━━━━╇━━━━━━━━━━━━━━━━━━━━━━━━━━━━━╇━━━━━━━━━━━━━━━━━┩\n",
              "│ lstm_2 (\u001b[38;5;33mLSTM\u001b[0m)                        │ (\u001b[38;5;45mNone\u001b[0m, \u001b[38;5;34m10\u001b[0m, \u001b[38;5;34m50\u001b[0m)              │          \u001b[38;5;34m10,400\u001b[0m │\n",
              "├──────────────────────────────────────┼─────────────────────────────┼─────────────────┤\n",
              "│ dropout_2 (\u001b[38;5;33mDropout\u001b[0m)                  │ (\u001b[38;5;45mNone\u001b[0m, \u001b[38;5;34m10\u001b[0m, \u001b[38;5;34m50\u001b[0m)              │               \u001b[38;5;34m0\u001b[0m │\n",
              "├──────────────────────────────────────┼─────────────────────────────┼─────────────────┤\n",
              "│ lstm_3 (\u001b[38;5;33mLSTM\u001b[0m)                        │ (\u001b[38;5;45mNone\u001b[0m, \u001b[38;5;34m50\u001b[0m)                  │          \u001b[38;5;34m20,200\u001b[0m │\n",
              "├──────────────────────────────────────┼─────────────────────────────┼─────────────────┤\n",
              "│ dropout_3 (\u001b[38;5;33mDropout\u001b[0m)                  │ (\u001b[38;5;45mNone\u001b[0m, \u001b[38;5;34m50\u001b[0m)                  │               \u001b[38;5;34m0\u001b[0m │\n",
              "├──────────────────────────────────────┼─────────────────────────────┼─────────────────┤\n",
              "│ dense_13 (\u001b[38;5;33mDense\u001b[0m)                     │ (\u001b[38;5;45mNone\u001b[0m, \u001b[38;5;34m1\u001b[0m)                   │              \u001b[38;5;34m51\u001b[0m │\n",
              "└──────────────────────────────────────┴─────────────────────────────┴─────────────────┘\n"
            ],
            "text/html": [
              "<pre style=\"white-space:pre;overflow-x:auto;line-height:normal;font-family:Menlo,'DejaVu Sans Mono',consolas,'Courier New',monospace\">┏━━━━━━━━━━━━━━━━━━━━━━━━━━━━━━━━━━━━━━┳━━━━━━━━━━━━━━━━━━━━━━━━━━━━━┳━━━━━━━━━━━━━━━━━┓\n",
              "┃<span style=\"font-weight: bold\"> Layer (type)                         </span>┃<span style=\"font-weight: bold\"> Output Shape                </span>┃<span style=\"font-weight: bold\">         Param # </span>┃\n",
              "┡━━━━━━━━━━━━━━━━━━━━━━━━━━━━━━━━━━━━━━╇━━━━━━━━━━━━━━━━━━━━━━━━━━━━━╇━━━━━━━━━━━━━━━━━┩\n",
              "│ lstm_2 (<span style=\"color: #0087ff; text-decoration-color: #0087ff\">LSTM</span>)                        │ (<span style=\"color: #00d7ff; text-decoration-color: #00d7ff\">None</span>, <span style=\"color: #00af00; text-decoration-color: #00af00\">10</span>, <span style=\"color: #00af00; text-decoration-color: #00af00\">50</span>)              │          <span style=\"color: #00af00; text-decoration-color: #00af00\">10,400</span> │\n",
              "├──────────────────────────────────────┼─────────────────────────────┼─────────────────┤\n",
              "│ dropout_2 (<span style=\"color: #0087ff; text-decoration-color: #0087ff\">Dropout</span>)                  │ (<span style=\"color: #00d7ff; text-decoration-color: #00d7ff\">None</span>, <span style=\"color: #00af00; text-decoration-color: #00af00\">10</span>, <span style=\"color: #00af00; text-decoration-color: #00af00\">50</span>)              │               <span style=\"color: #00af00; text-decoration-color: #00af00\">0</span> │\n",
              "├──────────────────────────────────────┼─────────────────────────────┼─────────────────┤\n",
              "│ lstm_3 (<span style=\"color: #0087ff; text-decoration-color: #0087ff\">LSTM</span>)                        │ (<span style=\"color: #00d7ff; text-decoration-color: #00d7ff\">None</span>, <span style=\"color: #00af00; text-decoration-color: #00af00\">50</span>)                  │          <span style=\"color: #00af00; text-decoration-color: #00af00\">20,200</span> │\n",
              "├──────────────────────────────────────┼─────────────────────────────┼─────────────────┤\n",
              "│ dropout_3 (<span style=\"color: #0087ff; text-decoration-color: #0087ff\">Dropout</span>)                  │ (<span style=\"color: #00d7ff; text-decoration-color: #00d7ff\">None</span>, <span style=\"color: #00af00; text-decoration-color: #00af00\">50</span>)                  │               <span style=\"color: #00af00; text-decoration-color: #00af00\">0</span> │\n",
              "├──────────────────────────────────────┼─────────────────────────────┼─────────────────┤\n",
              "│ dense_13 (<span style=\"color: #0087ff; text-decoration-color: #0087ff\">Dense</span>)                     │ (<span style=\"color: #00d7ff; text-decoration-color: #00d7ff\">None</span>, <span style=\"color: #00af00; text-decoration-color: #00af00\">1</span>)                   │              <span style=\"color: #00af00; text-decoration-color: #00af00\">51</span> │\n",
              "└──────────────────────────────────────┴─────────────────────────────┴─────────────────┘\n",
              "</pre>\n"
            ]
          },
          "metadata": {}
        },
        {
          "output_type": "display_data",
          "data": {
            "text/plain": [
              "\u001b[1m Total params: \u001b[0m\u001b[38;5;34m30,651\u001b[0m (119.73 KB)\n"
            ],
            "text/html": [
              "<pre style=\"white-space:pre;overflow-x:auto;line-height:normal;font-family:Menlo,'DejaVu Sans Mono',consolas,'Courier New',monospace\"><span style=\"font-weight: bold\"> Total params: </span><span style=\"color: #00af00; text-decoration-color: #00af00\">30,651</span> (119.73 KB)\n",
              "</pre>\n"
            ]
          },
          "metadata": {}
        },
        {
          "output_type": "display_data",
          "data": {
            "text/plain": [
              "\u001b[1m Trainable params: \u001b[0m\u001b[38;5;34m30,651\u001b[0m (119.73 KB)\n"
            ],
            "text/html": [
              "<pre style=\"white-space:pre;overflow-x:auto;line-height:normal;font-family:Menlo,'DejaVu Sans Mono',consolas,'Courier New',monospace\"><span style=\"font-weight: bold\"> Trainable params: </span><span style=\"color: #00af00; text-decoration-color: #00af00\">30,651</span> (119.73 KB)\n",
              "</pre>\n"
            ]
          },
          "metadata": {}
        },
        {
          "output_type": "display_data",
          "data": {
            "text/plain": [
              "\u001b[1m Non-trainable params: \u001b[0m\u001b[38;5;34m0\u001b[0m (0.00 B)\n"
            ],
            "text/html": [
              "<pre style=\"white-space:pre;overflow-x:auto;line-height:normal;font-family:Menlo,'DejaVu Sans Mono',consolas,'Courier New',monospace\"><span style=\"font-weight: bold\"> Non-trainable params: </span><span style=\"color: #00af00; text-decoration-color: #00af00\">0</span> (0.00 B)\n",
              "</pre>\n"
            ]
          },
          "metadata": {}
        },
        {
          "output_type": "stream",
          "name": "stdout",
          "text": [
            "Epoch 1/20\n"
          ]
        },
        {
          "output_type": "error",
          "ename": "ValueError",
          "evalue": "Exception encountered when calling LSTMCell.call().\n\n\u001b[1mDimensions must be equal, but are 100 and 1 for '{{node sequential_6_1/lstm_2_1/lstm_cell_1/MatMul}} = MatMul[T=DT_FLOAT, grad_a=false, grad_b=false, transpose_a=false, transpose_b=false](sequential_6_1/lstm_2_1/strided_slice_2, sequential_6_1/lstm_2_1/lstm_cell_1/Cast/ReadVariableOp)' with input shapes: [?,100], [1,200].\u001b[0m\n\nArguments received by LSTMCell.call():\n  • inputs=tf.Tensor(shape=(None, 100), dtype=float32)\n  • states=('tf.Tensor(shape=(None, 50), dtype=float32)', 'tf.Tensor(shape=(None, 50), dtype=float32)')\n  • training=True",
          "traceback": [
            "\u001b[0;31m---------------------------------------------------------------------------\u001b[0m",
            "\u001b[0;31mValueError\u001b[0m                                Traceback (most recent call last)",
            "\u001b[0;32m<ipython-input-28-8ce55218d935>\u001b[0m in \u001b[0;36m<cell line: 29>\u001b[0;34m()\u001b[0m\n\u001b[1;32m     27\u001b[0m \u001b[0;31m# Train the model\u001b[0m\u001b[0;34m\u001b[0m\u001b[0;34m\u001b[0m\u001b[0m\n\u001b[1;32m     28\u001b[0m \u001b[0;34m\u001b[0m\u001b[0m\n\u001b[0;32m---> 29\u001b[0;31m \u001b[0mhistory\u001b[0m \u001b[0;34m=\u001b[0m \u001b[0mmodel\u001b[0m\u001b[0;34m.\u001b[0m\u001b[0mfit\u001b[0m\u001b[0;34m(\u001b[0m\u001b[0mX_train\u001b[0m\u001b[0;34m,\u001b[0m \u001b[0my_train\u001b[0m\u001b[0;34m,\u001b[0m \u001b[0mepochs\u001b[0m\u001b[0;34m=\u001b[0m\u001b[0;36m20\u001b[0m\u001b[0;34m,\u001b[0m \u001b[0mbatch_size\u001b[0m\u001b[0;34m=\u001b[0m\u001b[0;36m64\u001b[0m\u001b[0;34m,\u001b[0m \u001b[0mvalidation_data\u001b[0m\u001b[0;34m=\u001b[0m\u001b[0;34m(\u001b[0m\u001b[0mX_test\u001b[0m\u001b[0;34m,\u001b[0m \u001b[0my_test\u001b[0m\u001b[0;34m)\u001b[0m\u001b[0;34m)\u001b[0m\u001b[0;34m\u001b[0m\u001b[0;34m\u001b[0m\u001b[0m\n\u001b[0m",
            "\u001b[0;32m/usr/local/lib/python3.10/dist-packages/keras/src/utils/traceback_utils.py\u001b[0m in \u001b[0;36merror_handler\u001b[0;34m(*args, **kwargs)\u001b[0m\n\u001b[1;32m    120\u001b[0m             \u001b[0;31m# To get the full stack trace, call:\u001b[0m\u001b[0;34m\u001b[0m\u001b[0;34m\u001b[0m\u001b[0m\n\u001b[1;32m    121\u001b[0m             \u001b[0;31m# `keras.config.disable_traceback_filtering()`\u001b[0m\u001b[0;34m\u001b[0m\u001b[0;34m\u001b[0m\u001b[0m\n\u001b[0;32m--> 122\u001b[0;31m             \u001b[0;32mraise\u001b[0m \u001b[0me\u001b[0m\u001b[0;34m.\u001b[0m\u001b[0mwith_traceback\u001b[0m\u001b[0;34m(\u001b[0m\u001b[0mfiltered_tb\u001b[0m\u001b[0;34m)\u001b[0m \u001b[0;32mfrom\u001b[0m \u001b[0;32mNone\u001b[0m\u001b[0;34m\u001b[0m\u001b[0;34m\u001b[0m\u001b[0m\n\u001b[0m\u001b[1;32m    123\u001b[0m         \u001b[0;32mfinally\u001b[0m\u001b[0;34m:\u001b[0m\u001b[0;34m\u001b[0m\u001b[0;34m\u001b[0m\u001b[0m\n\u001b[1;32m    124\u001b[0m             \u001b[0;32mdel\u001b[0m \u001b[0mfiltered_tb\u001b[0m\u001b[0;34m\u001b[0m\u001b[0;34m\u001b[0m\u001b[0m\n",
            "\u001b[0;32m/usr/local/lib/python3.10/dist-packages/keras/src/utils/traceback_utils.py\u001b[0m in \u001b[0;36merror_handler\u001b[0;34m(*args, **kwargs)\u001b[0m\n\u001b[1;32m    120\u001b[0m             \u001b[0;31m# To get the full stack trace, call:\u001b[0m\u001b[0;34m\u001b[0m\u001b[0;34m\u001b[0m\u001b[0m\n\u001b[1;32m    121\u001b[0m             \u001b[0;31m# `keras.config.disable_traceback_filtering()`\u001b[0m\u001b[0;34m\u001b[0m\u001b[0;34m\u001b[0m\u001b[0m\n\u001b[0;32m--> 122\u001b[0;31m             \u001b[0;32mraise\u001b[0m \u001b[0me\u001b[0m\u001b[0;34m.\u001b[0m\u001b[0mwith_traceback\u001b[0m\u001b[0;34m(\u001b[0m\u001b[0mfiltered_tb\u001b[0m\u001b[0;34m)\u001b[0m \u001b[0;32mfrom\u001b[0m \u001b[0;32mNone\u001b[0m\u001b[0;34m\u001b[0m\u001b[0;34m\u001b[0m\u001b[0m\n\u001b[0m\u001b[1;32m    123\u001b[0m         \u001b[0;32mfinally\u001b[0m\u001b[0;34m:\u001b[0m\u001b[0;34m\u001b[0m\u001b[0;34m\u001b[0m\u001b[0m\n\u001b[1;32m    124\u001b[0m             \u001b[0;32mdel\u001b[0m \u001b[0mfiltered_tb\u001b[0m\u001b[0;34m\u001b[0m\u001b[0;34m\u001b[0m\u001b[0m\n",
            "\u001b[0;31mValueError\u001b[0m: Exception encountered when calling LSTMCell.call().\n\n\u001b[1mDimensions must be equal, but are 100 and 1 for '{{node sequential_6_1/lstm_2_1/lstm_cell_1/MatMul}} = MatMul[T=DT_FLOAT, grad_a=false, grad_b=false, transpose_a=false, transpose_b=false](sequential_6_1/lstm_2_1/strided_slice_2, sequential_6_1/lstm_2_1/lstm_cell_1/Cast/ReadVariableOp)' with input shapes: [?,100], [1,200].\u001b[0m\n\nArguments received by LSTMCell.call():\n  • inputs=tf.Tensor(shape=(None, 100), dtype=float32)\n  • states=('tf.Tensor(shape=(None, 50), dtype=float32)', 'tf.Tensor(shape=(None, 50), dtype=float32)')\n  • training=True"
          ]
        }
      ]
    },
    {
      "cell_type": "code",
      "source": [],
      "metadata": {
        "id": "LD8r_ovEUYQM"
      },
      "execution_count": null,
      "outputs": []
    },
    {
      "cell_type": "code",
      "source": [
        "# import numpy as np\n",
        "\n",
        "# # Assume data is already a 1D array with 790,000 elements\n",
        "# data = np.random.randn(790000)  # Example data\n",
        "\n",
        "# # Parameters\n",
        "# sequence_length = 10  # Number of timesteps in each sequence\n",
        "# num_features = 1      # Number of features (usually 1 for univariate time series)\n",
        "\n",
        "# # Reshape data: make sure that the total size matches\n",
        "# num_sequences = data.shape[0] // sequence_length\n",
        "\n",
        "# # Reshaping the array\n",
        "# X = data[:num_sequences * sequence_length].reshape((num_sequences, sequence_length, num_features))\n",
        "\n",
        "# # Check the shape\n",
        "# print(X.shape)  # Should be (79000, 10, 1)"
      ],
      "metadata": {
        "colab": {
          "base_uri": "https://localhost:8080/"
        },
        "id": "DJm9wWr2UYdw",
        "outputId": "56232fc4-0b2b-463d-da50-fad310cc2e7f"
      },
      "execution_count": null,
      "outputs": [
        {
          "output_type": "stream",
          "name": "stdout",
          "text": [
            "(79000, 10, 1)\n"
          ]
        }
      ]
    },
    {
      "cell_type": "code",
      "source": [
        "df.shape"
      ],
      "metadata": {
        "colab": {
          "base_uri": "https://localhost:8080/"
        },
        "id": "R8kCUwC5VAyw",
        "outputId": "9ac26d5e-205d-491d-e73b-34e870c6ff59"
      },
      "execution_count": null,
      "outputs": [
        {
          "output_type": "execute_result",
          "data": {
            "text/plain": [
              "(144, 1)"
            ]
          },
          "metadata": {},
          "execution_count": 35
        }
      ]
    },
    {
      "cell_type": "code",
      "source": [
        "X_train.shape"
      ],
      "metadata": {
        "colab": {
          "base_uri": "https://localhost:8080/"
        },
        "id": "rUfBYao8iZzv",
        "outputId": "9ec3a361-72ee-49ad-dd12-257861adb108"
      },
      "execution_count": null,
      "outputs": [
        {
          "output_type": "execute_result",
          "data": {
            "text/plain": [
              "(93, 3, 1)"
            ]
          },
          "metadata": {},
          "execution_count": 37
        }
      ]
    },
    {
      "cell_type": "code",
      "source": [
        "print(X_train)"
      ],
      "metadata": {
        "id": "X_YrjH62i8Bw",
        "outputId": "96f7f91a-af6c-49d0-8db5-40134b503185",
        "colab": {
          "base_uri": "https://localhost:8080/"
        }
      },
      "execution_count": null,
      "outputs": [
        {
          "output_type": "stream",
          "name": "stdout",
          "text": [
            "[[[0.01544401]\n",
            "  [0.02702703]\n",
            "  [0.05405405]]\n",
            "\n",
            " [[0.02702703]\n",
            "  [0.05405405]\n",
            "  [0.04826255]]\n",
            "\n",
            " [[0.05405405]\n",
            "  [0.04826255]\n",
            "  [0.03281853]]\n",
            "\n",
            " [[0.04826255]\n",
            "  [0.03281853]\n",
            "  [0.05984557]]\n",
            "\n",
            " [[0.03281853]\n",
            "  [0.05984557]\n",
            "  [0.08494207]]\n",
            "\n",
            " [[0.05984557]\n",
            "  [0.08494207]\n",
            "  [0.08494207]]\n",
            "\n",
            " [[0.08494207]\n",
            "  [0.08494207]\n",
            "  [0.06177607]]\n",
            "\n",
            " [[0.08494207]\n",
            "  [0.06177607]\n",
            "  [0.02895753]]\n",
            "\n",
            " [[0.06177607]\n",
            "  [0.02895753]\n",
            "  [0.        ]]\n",
            "\n",
            " [[0.02895753]\n",
            "  [0.        ]\n",
            "  [0.02702703]]\n",
            "\n",
            " [[0.        ]\n",
            "  [0.02702703]\n",
            "  [0.02123553]]\n",
            "\n",
            " [[0.02702703]\n",
            "  [0.02123553]\n",
            "  [0.04247104]]\n",
            "\n",
            " [[0.02123553]\n",
            "  [0.04247104]\n",
            "  [0.07142857]]\n",
            "\n",
            " [[0.04247104]\n",
            "  [0.07142857]\n",
            "  [0.05984557]]\n",
            "\n",
            " [[0.07142857]\n",
            "  [0.05984557]\n",
            "  [0.04054055]]\n",
            "\n",
            " [[0.05984557]\n",
            "  [0.04054055]\n",
            "  [0.08687258]]\n",
            "\n",
            " [[0.04054055]\n",
            "  [0.08687258]\n",
            "  [0.12741312]]\n",
            "\n",
            " [[0.08687258]\n",
            "  [0.12741312]\n",
            "  [0.12741312]]\n",
            "\n",
            " [[0.12741312]\n",
            "  [0.12741312]\n",
            "  [0.10424709]]\n",
            "\n",
            " [[0.12741312]\n",
            "  [0.10424709]\n",
            "  [0.05598456]]\n",
            "\n",
            " [[0.10424709]\n",
            "  [0.05598456]\n",
            "  [0.01930502]]\n",
            "\n",
            " [[0.05598456]\n",
            "  [0.01930502]\n",
            "  [0.06949806]]\n",
            "\n",
            " [[0.01930502]\n",
            "  [0.06949806]\n",
            "  [0.07915059]]\n",
            "\n",
            " [[0.06949806]\n",
            "  [0.07915059]\n",
            "  [0.08880308]]\n",
            "\n",
            " [[0.07915059]\n",
            "  [0.08880308]\n",
            "  [0.14285713]]\n",
            "\n",
            " [[0.08880308]\n",
            "  [0.14285713]\n",
            "  [0.11389962]]\n",
            "\n",
            " [[0.14285713]\n",
            "  [0.11389962]\n",
            "  [0.13127413]]\n",
            "\n",
            " [[0.11389962]\n",
            "  [0.13127413]\n",
            "  [0.14285713]]\n",
            "\n",
            " [[0.13127413]\n",
            "  [0.14285713]\n",
            "  [0.18339768]]\n",
            "\n",
            " [[0.14285713]\n",
            "  [0.18339768]\n",
            "  [0.18339768]]\n",
            "\n",
            " [[0.18339768]\n",
            "  [0.18339768]\n",
            "  [0.15444016]]\n",
            "\n",
            " [[0.18339768]\n",
            "  [0.15444016]\n",
            "  [0.11196911]]\n",
            "\n",
            " [[0.15444016]\n",
            "  [0.11196911]\n",
            "  [0.08108109]]\n",
            "\n",
            " [[0.11196911]\n",
            "  [0.08108109]\n",
            "  [0.1196911 ]]\n",
            "\n",
            " [[0.08108109]\n",
            "  [0.1196911 ]\n",
            "  [0.12934363]]\n",
            "\n",
            " [[0.1196911 ]\n",
            "  [0.12934363]\n",
            "  [0.14671814]]\n",
            "\n",
            " [[0.12934363]\n",
            "  [0.14671814]\n",
            "  [0.17181468]]\n",
            "\n",
            " [[0.14671814]\n",
            "  [0.17181468]\n",
            "  [0.14864865]]\n",
            "\n",
            " [[0.17181468]\n",
            "  [0.14864865]\n",
            "  [0.15250966]]\n",
            "\n",
            " [[0.14864865]\n",
            "  [0.15250966]\n",
            "  [0.22007722]]\n",
            "\n",
            " [[0.15250966]\n",
            "  [0.22007722]\n",
            "  [0.24324325]]\n",
            "\n",
            " [[0.22007722]\n",
            "  [0.24324325]\n",
            "  [0.26640925]]\n",
            "\n",
            " [[0.24324325]\n",
            "  [0.26640925]\n",
            "  [0.2027027 ]]\n",
            "\n",
            " [[0.26640925]\n",
            "  [0.2027027 ]\n",
            "  [0.16795367]]\n",
            "\n",
            " [[0.2027027 ]\n",
            "  [0.16795367]\n",
            "  [0.13127413]]\n",
            "\n",
            " [[0.16795367]\n",
            "  [0.13127413]\n",
            "  [0.17374519]]\n",
            "\n",
            " [[0.13127413]\n",
            "  [0.17374519]\n",
            "  [0.17760617]]\n",
            "\n",
            " [[0.17374519]\n",
            "  [0.17760617]\n",
            "  [0.17760617]]\n",
            "\n",
            " [[0.17760617]\n",
            "  [0.17760617]\n",
            "  [0.25482625]]\n",
            "\n",
            " [[0.17760617]\n",
            "  [0.25482625]\n",
            "  [0.25289574]]\n",
            "\n",
            " [[0.25482625]\n",
            "  [0.25289574]\n",
            "  [0.24131274]]\n",
            "\n",
            " [[0.25289574]\n",
            "  [0.24131274]\n",
            "  [0.26833975]]\n",
            "\n",
            " [[0.24131274]\n",
            "  [0.26833975]\n",
            "  [0.3088803 ]]\n",
            "\n",
            " [[0.26833975]\n",
            "  [0.3088803 ]\n",
            "  [0.32432434]]\n",
            "\n",
            " [[0.3088803 ]\n",
            "  [0.32432434]\n",
            "  [0.25675675]]\n",
            "\n",
            " [[0.32432434]\n",
            "  [0.25675675]\n",
            "  [0.20656371]]\n",
            "\n",
            " [[0.25675675]\n",
            "  [0.20656371]\n",
            "  [0.14671814]]\n",
            "\n",
            " [[0.20656371]\n",
            "  [0.14671814]\n",
            "  [0.18725869]]\n",
            "\n",
            " [[0.14671814]\n",
            "  [0.18725869]\n",
            "  [0.19305018]]\n",
            "\n",
            " [[0.18725869]\n",
            "  [0.19305018]\n",
            "  [0.16216215]]\n",
            "\n",
            " [[0.19305018]\n",
            "  [0.16216215]\n",
            "  [0.25289574]]\n",
            "\n",
            " [[0.16216215]\n",
            "  [0.25289574]\n",
            "  [0.23745173]]\n",
            "\n",
            " [[0.25289574]\n",
            "  [0.23745173]\n",
            "  [0.25096524]]\n",
            "\n",
            " [[0.23745173]\n",
            "  [0.25096524]\n",
            "  [0.3088803 ]]\n",
            "\n",
            " [[0.25096524]\n",
            "  [0.3088803 ]\n",
            "  [0.38223937]]\n",
            "\n",
            " [[0.3088803 ]\n",
            "  [0.38223937]\n",
            "  [0.36486486]]\n",
            "\n",
            " [[0.38223937]\n",
            "  [0.36486486]\n",
            "  [0.2992278 ]]\n",
            "\n",
            " [[0.36486486]\n",
            "  [0.2992278 ]\n",
            "  [0.24131274]]\n",
            "\n",
            " [[0.2992278 ]\n",
            "  [0.24131274]\n",
            "  [0.1911197 ]]\n",
            "\n",
            " [[0.24131274]\n",
            "  [0.1911197 ]\n",
            "  [0.24131274]]\n",
            "\n",
            " [[0.1911197 ]\n",
            "  [0.24131274]\n",
            "  [0.26640925]]\n",
            "\n",
            " [[0.24131274]\n",
            "  [0.26640925]\n",
            "  [0.24903473]]\n",
            "\n",
            " [[0.26640925]\n",
            "  [0.24903473]\n",
            "  [0.31467178]]\n",
            "\n",
            " [[0.24903473]\n",
            "  [0.31467178]\n",
            "  [0.3185328 ]]\n",
            "\n",
            " [[0.31467178]\n",
            "  [0.3185328 ]\n",
            "  [0.32046333]]\n",
            "\n",
            " [[0.3185328 ]\n",
            "  [0.32046333]\n",
            "  [0.4073359 ]]\n",
            "\n",
            " [[0.32046333]\n",
            "  [0.4073359 ]\n",
            "  [0.5019305 ]]\n",
            "\n",
            " [[0.4073359 ]\n",
            "  [0.5019305 ]\n",
            "  [0.46911195]]\n",
            "\n",
            " [[0.5019305 ]\n",
            "  [0.46911195]\n",
            "  [0.40154442]]\n",
            "\n",
            " [[0.46911195]\n",
            "  [0.40154442]\n",
            "  [0.32818535]]\n",
            "\n",
            " [[0.40154442]\n",
            "  [0.32818535]\n",
            "  [0.25675675]]\n",
            "\n",
            " [[0.32818535]\n",
            "  [0.25675675]\n",
            "  [0.3359073 ]]\n",
            "\n",
            " [[0.25675675]\n",
            "  [0.3359073 ]\n",
            "  [0.34749034]]\n",
            "\n",
            " [[0.3359073 ]\n",
            "  [0.34749034]\n",
            "  [0.33397684]]\n",
            "\n",
            " [[0.34749034]\n",
            "  [0.33397684]\n",
            "  [0.41119692]]\n",
            "\n",
            " [[0.33397684]\n",
            "  [0.41119692]\n",
            "  [0.4034749 ]]\n",
            "\n",
            " [[0.41119692]\n",
            "  [0.4034749 ]\n",
            "  [0.4131274 ]]\n",
            "\n",
            " [[0.4034749 ]\n",
            "  [0.4131274 ]\n",
            "  [0.52123547]]\n",
            "\n",
            " [[0.4131274 ]\n",
            "  [0.52123547]\n",
            "  [0.5965251 ]]\n",
            "\n",
            " [[0.52123547]\n",
            "  [0.5965251 ]\n",
            "  [0.58108103]]\n",
            "\n",
            " [[0.5965251 ]\n",
            "  [0.58108103]\n",
            "  [0.484556  ]]\n",
            "\n",
            " [[0.58108103]\n",
            "  [0.484556  ]\n",
            "  [0.3899614 ]]\n",
            "\n",
            " [[0.484556  ]\n",
            "  [0.3899614 ]\n",
            "  [0.3223938 ]]]\n"
          ]
        }
      ]
    },
    {
      "cell_type": "code",
      "source": [
        "y_train.shape"
      ],
      "metadata": {
        "colab": {
          "base_uri": "https://localhost:8080/"
        },
        "id": "iclSwK_qiZ2f",
        "outputId": "33742aa0-51ae-4730-f1d7-71f97b86700d"
      },
      "execution_count": null,
      "outputs": [
        {
          "output_type": "execute_result",
          "data": {
            "text/plain": [
              "(93,)"
            ]
          },
          "metadata": {},
          "execution_count": 38
        }
      ]
    },
    {
      "cell_type": "code",
      "source": [
        "import numpy as np\n",
        "import pandas as pd\n",
        "import matplotlib.pyplot as plt\n",
        "import tensorflow as tf\n",
        "from sklearn.preprocessing import MinMaxScaler\n",
        "\n",
        "# Load and normalize dataset\n",
        "url = \"https://raw.githubusercontent.com/jbrownlee/Datasets/master/airline-passengers.csv\"\n",
        "df = pd.read_csv(url, usecols=[1])\n",
        "scaler = MinMaxScaler(feature_range=(0, 1))\n",
        "dataset = scaler.fit_transform(df.values.astype('float32'))\n",
        "\n",
        "# Split and reshape dataset\n",
        "train_size = int(len(dataset) * 0.67)\n",
        "train, test = dataset[0:train_size, :], dataset[train_size:len(dataset), :]\n",
        "look_back = 3\n",
        "\n",
        "def create_dataset(data, look_back=1):\n",
        "    X, Y = [], []\n",
        "    for i in range(len(data) - look_back):\n",
        "        X.append(data[i:(i + look_back), 0])\n",
        "        Y.append(data[i + look_back, 0])\n",
        "    return np.array(X), np.array(Y)\n",
        "\n",
        "X_train, y_train = create_dataset(train, look_back)\n",
        "X_test, y_test = create_dataset(test, look_back)\n",
        "X_train = np.reshape(X_train, (X_train.shape[0], look_back, 1))\n",
        "X_test = np.reshape(X_test, (X_test.shape[0], look_back, 1))\n",
        "\n",
        "# Build and train LSTM model\n",
        "model = tf.keras.Sequential([\n",
        "    tf.keras.layers.LSTM(50, input_shape=(look_back, 1)),\n",
        "    tf.keras.layers.Dense(1)\n",
        "])\n",
        "model.compile(loss='mean_squared_error', optimizer='adam') ### since this is regression, we are using mean sqrerror\n",
        "model.fit(X_train, y_train, epochs=100, batch_size=1, verbose=2)\n",
        "\n",
        "# Evaluate the model\n",
        "train_predict = scaler.inverse_transform(model.predict(X_train))\n",
        "test_predict = scaler.inverse_transform(model.predict(X_test))\n",
        "train_score = np.sqrt(np.mean((train_predict - scaler.inverse_transform([y_train]).T)**2))\n",
        "test_score = np.sqrt(np.mean((test_predict - scaler.inverse_transform([y_test]).T)**2))\n",
        "print('Train RMSE: {:.2f}, Test RMSE: {:.2f}'.format(train_score, test_score))\n"
      ],
      "metadata": {
        "colab": {
          "base_uri": "https://localhost:8080/"
        },
        "id": "VPO7WOqGVA1m",
        "outputId": "c174f686-9c9e-4738-9f3a-96c7dbd226cc"
      },
      "execution_count": null,
      "outputs": [
        {
          "output_type": "stream",
          "name": "stdout",
          "text": [
            "Epoch 1/100\n"
          ]
        },
        {
          "output_type": "stream",
          "name": "stderr",
          "text": [
            "/usr/local/lib/python3.10/dist-packages/keras/src/layers/rnn/rnn.py:204: UserWarning: Do not pass an `input_shape`/`input_dim` argument to a layer. When using Sequential models, prefer using an `Input(shape)` object as the first layer in the model instead.\n",
            "  super().__init__(**kwargs)\n"
          ]
        },
        {
          "output_type": "stream",
          "name": "stdout",
          "text": [
            "93/93 - 2s - 17ms/step - loss: 0.0190\n",
            "Epoch 2/100\n",
            "93/93 - 0s - 2ms/step - loss: 0.0068\n",
            "Epoch 3/100\n",
            "93/93 - 0s - 2ms/step - loss: 0.0053\n",
            "Epoch 4/100\n",
            "93/93 - 0s - 2ms/step - loss: 0.0050\n",
            "Epoch 5/100\n",
            "93/93 - 0s - 3ms/step - loss: 0.0049\n",
            "Epoch 6/100\n",
            "93/93 - 0s - 3ms/step - loss: 0.0048\n",
            "Epoch 7/100\n",
            "93/93 - 0s - 3ms/step - loss: 0.0048\n",
            "Epoch 8/100\n",
            "93/93 - 0s - 3ms/step - loss: 0.0046\n",
            "Epoch 9/100\n",
            "93/93 - 0s - 3ms/step - loss: 0.0047\n",
            "Epoch 10/100\n",
            "93/93 - 0s - 4ms/step - loss: 0.0043\n",
            "Epoch 11/100\n",
            "93/93 - 0s - 3ms/step - loss: 0.0045\n",
            "Epoch 12/100\n",
            "93/93 - 0s - 3ms/step - loss: 0.0041\n",
            "Epoch 13/100\n",
            "93/93 - 0s - 2ms/step - loss: 0.0038\n",
            "Epoch 14/100\n",
            "93/93 - 0s - 3ms/step - loss: 0.0042\n",
            "Epoch 15/100\n",
            "93/93 - 0s - 3ms/step - loss: 0.0040\n",
            "Epoch 16/100\n",
            "93/93 - 0s - 2ms/step - loss: 0.0036\n",
            "Epoch 17/100\n",
            "93/93 - 0s - 2ms/step - loss: 0.0036\n",
            "Epoch 18/100\n",
            "93/93 - 0s - 3ms/step - loss: 0.0034\n",
            "Epoch 19/100\n",
            "93/93 - 0s - 3ms/step - loss: 0.0034\n",
            "Epoch 20/100\n",
            "93/93 - 0s - 3ms/step - loss: 0.0031\n",
            "Epoch 21/100\n",
            "93/93 - 0s - 3ms/step - loss: 0.0036\n",
            "Epoch 22/100\n",
            "93/93 - 0s - 3ms/step - loss: 0.0031\n",
            "Epoch 23/100\n",
            "93/93 - 0s - 3ms/step - loss: 0.0030\n",
            "Epoch 24/100\n",
            "93/93 - 0s - 4ms/step - loss: 0.0029\n",
            "Epoch 25/100\n",
            "93/93 - 0s - 3ms/step - loss: 0.0030\n",
            "Epoch 26/100\n",
            "93/93 - 0s - 3ms/step - loss: 0.0029\n",
            "Epoch 27/100\n",
            "93/93 - 0s - 3ms/step - loss: 0.0027\n",
            "Epoch 28/100\n",
            "93/93 - 0s - 3ms/step - loss: 0.0026\n",
            "Epoch 29/100\n",
            "93/93 - 0s - 4ms/step - loss: 0.0025\n",
            "Epoch 30/100\n",
            "93/93 - 0s - 4ms/step - loss: 0.0025\n",
            "Epoch 31/100\n",
            "93/93 - 1s - 8ms/step - loss: 0.0024\n",
            "Epoch 32/100\n",
            "93/93 - 1s - 9ms/step - loss: 0.0023\n",
            "Epoch 33/100\n",
            "93/93 - 0s - 2ms/step - loss: 0.0023\n",
            "Epoch 34/100\n",
            "93/93 - 0s - 4ms/step - loss: 0.0022\n",
            "Epoch 35/100\n",
            "93/93 - 0s - 2ms/step - loss: 0.0021\n",
            "Epoch 36/100\n",
            "93/93 - 0s - 4ms/step - loss: 0.0022\n",
            "Epoch 37/100\n",
            "93/93 - 1s - 5ms/step - loss: 0.0021\n",
            "Epoch 38/100\n",
            "93/93 - 0s - 3ms/step - loss: 0.0019\n",
            "Epoch 39/100\n",
            "93/93 - 0s - 4ms/step - loss: 0.0021\n",
            "Epoch 40/100\n",
            "93/93 - 0s - 3ms/step - loss: 0.0021\n",
            "Epoch 41/100\n",
            "93/93 - 0s - 3ms/step - loss: 0.0020\n",
            "Epoch 42/100\n",
            "93/93 - 0s - 2ms/step - loss: 0.0022\n",
            "Epoch 43/100\n",
            "93/93 - 0s - 4ms/step - loss: 0.0020\n",
            "Epoch 44/100\n",
            "93/93 - 1s - 6ms/step - loss: 0.0019\n",
            "Epoch 45/100\n",
            "93/93 - 1s - 6ms/step - loss: 0.0022\n",
            "Epoch 46/100\n",
            "93/93 - 1s - 6ms/step - loss: 0.0020\n",
            "Epoch 47/100\n",
            "93/93 - 0s - 4ms/step - loss: 0.0018\n",
            "Epoch 48/100\n",
            "93/93 - 0s - 4ms/step - loss: 0.0019\n",
            "Epoch 49/100\n",
            "93/93 - 0s - 4ms/step - loss: 0.0019\n",
            "Epoch 50/100\n",
            "93/93 - 0s - 5ms/step - loss: 0.0018\n",
            "Epoch 51/100\n",
            "93/93 - 0s - 3ms/step - loss: 0.0020\n",
            "Epoch 52/100\n",
            "93/93 - 0s - 2ms/step - loss: 0.0019\n",
            "Epoch 53/100\n",
            "93/93 - 0s - 3ms/step - loss: 0.0018\n",
            "Epoch 54/100\n",
            "93/93 - 0s - 3ms/step - loss: 0.0020\n",
            "Epoch 55/100\n",
            "93/93 - 0s - 3ms/step - loss: 0.0019\n",
            "Epoch 56/100\n",
            "93/93 - 0s - 3ms/step - loss: 0.0016\n",
            "Epoch 57/100\n",
            "93/93 - 0s - 3ms/step - loss: 0.0019\n",
            "Epoch 58/100\n",
            "93/93 - 0s - 2ms/step - loss: 0.0018\n",
            "Epoch 59/100\n",
            "93/93 - 0s - 2ms/step - loss: 0.0017\n",
            "Epoch 60/100\n",
            "93/93 - 0s - 3ms/step - loss: 0.0019\n",
            "Epoch 61/100\n",
            "93/93 - 0s - 2ms/step - loss: 0.0018\n",
            "Epoch 62/100\n",
            "93/93 - 0s - 4ms/step - loss: 0.0019\n",
            "Epoch 63/100\n",
            "93/93 - 0s - 4ms/step - loss: 0.0019\n",
            "Epoch 64/100\n",
            "93/93 - 1s - 6ms/step - loss: 0.0019\n",
            "Epoch 65/100\n",
            "93/93 - 0s - 4ms/step - loss: 0.0018\n",
            "Epoch 66/100\n",
            "93/93 - 1s - 6ms/step - loss: 0.0021\n",
            "Epoch 67/100\n",
            "93/93 - 1s - 6ms/step - loss: 0.0018\n",
            "Epoch 68/100\n",
            "93/93 - 0s - 3ms/step - loss: 0.0018\n",
            "Epoch 69/100\n",
            "93/93 - 0s - 2ms/step - loss: 0.0019\n",
            "Epoch 70/100\n",
            "93/93 - 0s - 3ms/step - loss: 0.0017\n",
            "Epoch 71/100\n",
            "93/93 - 0s - 3ms/step - loss: 0.0018\n",
            "Epoch 72/100\n",
            "93/93 - 0s - 3ms/step - loss: 0.0018\n",
            "Epoch 73/100\n",
            "93/93 - 0s - 3ms/step - loss: 0.0018\n",
            "Epoch 74/100\n",
            "93/93 - 0s - 3ms/step - loss: 0.0018\n",
            "Epoch 75/100\n",
            "93/93 - 0s - 3ms/step - loss: 0.0017\n",
            "Epoch 76/100\n",
            "93/93 - 0s - 3ms/step - loss: 0.0016\n",
            "Epoch 77/100\n",
            "93/93 - 0s - 2ms/step - loss: 0.0020\n",
            "Epoch 78/100\n",
            "93/93 - 0s - 2ms/step - loss: 0.0018\n",
            "Epoch 79/100\n",
            "93/93 - 0s - 3ms/step - loss: 0.0018\n",
            "Epoch 80/100\n",
            "93/93 - 0s - 2ms/step - loss: 0.0017\n",
            "Epoch 81/100\n",
            "93/93 - 0s - 2ms/step - loss: 0.0019\n",
            "Epoch 82/100\n",
            "93/93 - 0s - 3ms/step - loss: 0.0018\n",
            "Epoch 83/100\n",
            "93/93 - 0s - 3ms/step - loss: 0.0019\n",
            "Epoch 84/100\n",
            "93/93 - 0s - 3ms/step - loss: 0.0018\n",
            "Epoch 85/100\n",
            "93/93 - 0s - 3ms/step - loss: 0.0018\n",
            "Epoch 86/100\n",
            "93/93 - 0s - 3ms/step - loss: 0.0019\n",
            "Epoch 87/100\n",
            "93/93 - 0s - 3ms/step - loss: 0.0017\n",
            "Epoch 88/100\n",
            "93/93 - 0s - 2ms/step - loss: 0.0018\n",
            "Epoch 89/100\n",
            "93/93 - 0s - 2ms/step - loss: 0.0020\n",
            "Epoch 90/100\n",
            "93/93 - 0s - 3ms/step - loss: 0.0017\n",
            "Epoch 91/100\n",
            "93/93 - 0s - 2ms/step - loss: 0.0018\n",
            "Epoch 92/100\n",
            "93/93 - 0s - 3ms/step - loss: 0.0018\n",
            "Epoch 93/100\n",
            "93/93 - 0s - 3ms/step - loss: 0.0018\n",
            "Epoch 94/100\n",
            "93/93 - 0s - 3ms/step - loss: 0.0018\n",
            "Epoch 95/100\n",
            "93/93 - 0s - 3ms/step - loss: 0.0019\n",
            "Epoch 96/100\n",
            "93/93 - 0s - 3ms/step - loss: 0.0017\n",
            "Epoch 97/100\n",
            "93/93 - 0s - 2ms/step - loss: 0.0019\n",
            "Epoch 98/100\n",
            "93/93 - 0s - 3ms/step - loss: 0.0017\n",
            "Epoch 99/100\n",
            "93/93 - 0s - 3ms/step - loss: 0.0018\n",
            "Epoch 100/100\n",
            "93/93 - 0s - 3ms/step - loss: 0.0018\n"
          ]
        },
        {
          "output_type": "stream",
          "name": "stderr",
          "text": [
            "WARNING:tensorflow:5 out of the last 11 calls to <function TensorFlowTrainer.make_predict_function.<locals>.one_step_on_data_distributed at 0x782e939cc820> triggered tf.function retracing. Tracing is expensive and the excessive number of tracings could be due to (1) creating @tf.function repeatedly in a loop, (2) passing tensors with different shapes, (3) passing Python objects instead of tensors. For (1), please define your @tf.function outside of the loop. For (2), @tf.function has reduce_retracing=True option that can avoid unnecessary retracing. For (3), please refer to https://www.tensorflow.org/guide/function#controlling_retracing and https://www.tensorflow.org/api_docs/python/tf/function for  more details.\n"
          ]
        },
        {
          "output_type": "stream",
          "name": "stdout",
          "text": [
            "\r\u001b[1m1/3\u001b[0m \u001b[32m━━━━━━\u001b[0m\u001b[37m━━━━━━━━━━━━━━\u001b[0m \u001b[1m0s\u001b[0m 198ms/step"
          ]
        },
        {
          "output_type": "stream",
          "name": "stderr",
          "text": [
            "WARNING:tensorflow:5 out of the last 11 calls to <function TensorFlowTrainer.make_predict_function.<locals>.one_step_on_data_distributed at 0x782e939cc820> triggered tf.function retracing. Tracing is expensive and the excessive number of tracings could be due to (1) creating @tf.function repeatedly in a loop, (2) passing tensors with different shapes, (3) passing Python objects instead of tensors. For (1), please define your @tf.function outside of the loop. For (2), @tf.function has reduce_retracing=True option that can avoid unnecessary retracing. For (3), please refer to https://www.tensorflow.org/guide/function#controlling_retracing and https://www.tensorflow.org/api_docs/python/tf/function for  more details.\n"
          ]
        },
        {
          "output_type": "stream",
          "name": "stdout",
          "text": [
            "\u001b[1m3/3\u001b[0m \u001b[32m━━━━━━━━━━━━━━━━━━━━\u001b[0m\u001b[37m\u001b[0m \u001b[1m0s\u001b[0m 92ms/step\n",
            "\u001b[1m2/2\u001b[0m \u001b[32m━━━━━━━━━━━━━━━━━━━━\u001b[0m\u001b[37m\u001b[0m \u001b[1m0s\u001b[0m 7ms/step \n",
            "Train RMSE: 20.64, Test RMSE: 54.44\n"
          ]
        }
      ]
    },
    {
      "cell_type": "code",
      "source": [
        "import numpy as np\n",
        "import pandas as pd\n",
        "import matplotlib.pyplot as plt\n",
        "import tensorflow as tf\n",
        "from sklearn.preprocessing import MinMaxScaler\n",
        "\n",
        "# Load and normalize dataset\n",
        "url = \"https://raw.githubusercontent.com/jbrownlee/Datasets/master/airline-passengers.csv\"\n",
        "df = pd.read_csv(url, usecols=[1])\n",
        "scaler = MinMaxScaler(feature_range=(0, 1))\n",
        "dataset = scaler.fit_transform(df.values.astype('float32'))\n",
        "\n",
        "# Split and reshape dataset\n",
        "train_size = int(len(dataset) * 0.67)\n",
        "train, test = dataset[0:train_size, :], dataset[train_size:len(dataset), :]\n",
        "look_back = 3\n",
        "\n",
        "def create_dataset(data, look_back=1):\n",
        "    X, Y = [], []\n",
        "    for i in range(len(data) - look_back):\n",
        "        X.append(data[i:(i + look_back), 0])\n",
        "        Y.append(data[i + look_back, 0])\n",
        "    return np.array(X), np.array(Y)\n",
        "\n",
        "X_train, y_train = create_dataset(train, look_back)\n",
        "X_test, y_test = create_dataset(test, look_back)\n",
        "X_train = np.reshape(X_train, (X_train.shape[0], look_back, 1))\n",
        "X_test = np.reshape(X_test, (X_test.shape[0], look_back, 1))\n",
        "\n",
        "# Build and train LSTM model\n",
        "model = tf.keras.Sequential([\n",
        "    tf.keras.layers.LSTM(50, input_shape=(look_back, 1)),\n",
        "    tf.keras.layers.Dense(1)\n",
        "])\n",
        "model.compile(loss='mean_squared_error', optimizer='adam')\n",
        "model.fit(X_train, y_train, epochs=5, batch_size=1, verbose=2)\n",
        "\n",
        "# Evaluate the model\n",
        "train_predict = scaler.inverse_transform(model.predict(X_train))\n",
        "test_predict = scaler.inverse_transform(model.predict(X_test))\n",
        "train_score = np.sqrt(np.mean((train_predict - scaler.inverse_transform([y_train]).T)**2))\n",
        "test_score = np.sqrt(np.mean((test_predict - scaler.inverse_transform([y_test]).T)**2))\n",
        "print('Train RMSE: {:.2f}, Test RMSE: {:.2f}'.format(train_score, test_score))\n"
      ],
      "metadata": {
        "colab": {
          "base_uri": "https://localhost:8080/"
        },
        "id": "29ue3fZ7VA4Q",
        "outputId": "ad70aed1-af6b-4244-d034-8a899a08c6f8"
      },
      "execution_count": null,
      "outputs": [
        {
          "output_type": "stream",
          "name": "stderr",
          "text": [
            "/usr/local/lib/python3.10/dist-packages/keras/src/layers/rnn/rnn.py:204: UserWarning: Do not pass an `input_shape`/`input_dim` argument to a layer. When using Sequential models, prefer using an `Input(shape)` object as the first layer in the model instead.\n",
            "  super().__init__(**kwargs)\n"
          ]
        },
        {
          "output_type": "stream",
          "name": "stdout",
          "text": [
            "Epoch 1/5\n",
            "93/93 - 5s - 58ms/step - loss: 0.0146\n",
            "Epoch 2/5\n",
            "93/93 - 0s - 5ms/step - loss: 0.0061\n",
            "Epoch 3/5\n",
            "93/93 - 0s - 2ms/step - loss: 0.0053\n",
            "Epoch 4/5\n",
            "93/93 - 0s - 2ms/step - loss: 0.0049\n",
            "Epoch 5/5\n",
            "93/93 - 0s - 3ms/step - loss: 0.0051\n",
            "\u001b[1m3/3\u001b[0m \u001b[32m━━━━━━━━━━━━━━━━━━━━\u001b[0m\u001b[37m\u001b[0m \u001b[1m0s\u001b[0m 94ms/step\n",
            "\u001b[1m2/2\u001b[0m \u001b[32m━━━━━━━━━━━━━━━━━━━━\u001b[0m\u001b[37m\u001b[0m \u001b[1m0s\u001b[0m 5ms/step \n",
            "Train RMSE: 33.43, Test RMSE: 76.85\n"
          ]
        }
      ]
    },
    {
      "cell_type": "code",
      "source": [],
      "metadata": {
        "id": "nNUQ-RQDUYY5"
      },
      "execution_count": null,
      "outputs": []
    },
    {
      "cell_type": "code",
      "source": [],
      "metadata": {
        "id": "AgB-OtP8UYbc"
      },
      "execution_count": null,
      "outputs": []
    }
  ]
}