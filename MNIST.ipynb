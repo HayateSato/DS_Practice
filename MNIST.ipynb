{
  "nbformat": 4,
  "nbformat_minor": 0,
  "metadata": {
    "colab": {
      "provenance": [],
      "authorship_tag": "ABX9TyP4AR92Eg/egn03o7Dk4iio",
      "include_colab_link": true
    },
    "kernelspec": {
      "name": "python3",
      "display_name": "Python 3"
    },
    "language_info": {
      "name": "python"
    }
  },
  "cells": [
    {
      "cell_type": "markdown",
      "metadata": {
        "id": "view-in-github",
        "colab_type": "text"
      },
      "source": [
        "<a href=\"https://colab.research.google.com/github/HayateSato/DS_Practice/blob/main/MNIST.ipynb\" target=\"_parent\"><img src=\"https://colab.research.google.com/assets/colab-badge.svg\" alt=\"Open In Colab\"/></a>"
      ]
    },
    {
      "cell_type": "code",
      "execution_count": null,
      "metadata": {
        "id": "kQPme-HTgxEi"
      },
      "outputs": [],
      "source": [
        "# from mvpa2.suite import *\n",
        "# filepath = os.path.join(pymvpa_datadbroot, 'mnist', \"mnist.hdf5\")\n",
        "# datasets = h5load(filepath)"
      ]
    },
    {
      "cell_type": "code",
      "source": [
        "from sklearn.datasets import fetch_openml\n",
        "X, y = fetch_openml(\"mnist_784\", version=1, return_X_y=True)\n",
        "X = X.values\n",
        "y = y.astype(int).values"
      ],
      "metadata": {
        "id": "6HZREMWUg-jk"
      },
      "execution_count": 1,
      "outputs": []
    },
    {
      "cell_type": "code",
      "source": [
        "print(X.shape)\n",
        "print(y.shape)"
      ],
      "metadata": {
        "colab": {
          "base_uri": "https://localhost:8080/"
        },
        "id": "ZcRUeYWOhUKU",
        "outputId": "28a1c664-0556-4b6d-e3cc-56062b6c6113"
      },
      "execution_count": 2,
      "outputs": [
        {
          "output_type": "stream",
          "name": "stdout",
          "text": [
            "(70000, 784)\n",
            "(70000,)\n"
          ]
        }
      ]
    },
    {
      "cell_type": "code",
      "source": [],
      "metadata": {
        "id": "kxO9yiSvhqtl"
      },
      "execution_count": null,
      "outputs": []
    }
  ]
}