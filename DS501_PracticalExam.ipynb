{
  "nbformat": 4,
  "nbformat_minor": 0,
  "metadata": {
    "colab": {
      "provenance": [],
      "authorship_tag": "ABX9TyMZuI+4cIkBAH4h47HtRRop",
      "include_colab_link": true
    },
    "kernelspec": {
      "name": "python3",
      "display_name": "Python 3"
    },
    "language_info": {
      "name": "python"
    }
  },
  "cells": [
    {
      "cell_type": "markdown",
      "metadata": {
        "id": "view-in-github",
        "colab_type": "text"
      },
      "source": [
        "<a href=\"https://colab.research.google.com/github/HayateSato/DS_Practice/blob/main/DS501_PracticalExam.ipynb\" target=\"_parent\"><img src=\"https://colab.research.google.com/assets/colab-badge.svg\" alt=\"Open In Colab\"/></a>"
      ]
    },
    {
      "cell_type": "code",
      "execution_count": null,
      "metadata": {
        "id": "eVj1q8EbUkgW"
      },
      "outputs": [],
      "source": []
    },
    {
      "cell_type": "markdown",
      "source": [
        "# Practical Exam: House sales\n",
        "\n",
        "RealAgents is a real estate company that focuses on selling houses.\n",
        "\n",
        "RealAgents sells a variety of types of house in one metropolitan area.\n",
        "\n",
        "Some houses sell slowly and sometimes require lowering the price in order to find a buyer.\n",
        "\n",
        "In order to stay competitive, RealAgents would like to optimize the listing prices of the houses it is trying to sell.\n",
        "\n",
        "They want to do this by predicting the sale price of a house given its characteristics.\n",
        "\n",
        "If they can predict the sale price in advance, they can decrease the time to sale.\n",
        "\n",
        "\n",
        "## Data\n",
        "\n",
        "The dataset contains records of previous houses sold in the area.\n",
        "\n",
        "| Column Name | Criteria                                                |\n",
        "|-------------|---------------------------------------------------------|\n",
        "| house_id    | Nominal. </br> Unique identifier for houses. </br>Missing values not possible. |\n",
        "| city        | Nominal. </br>The city in which the house is located. One of 'Silvertown', 'Riverford', 'Teasdale' and 'Poppleton'. </br>Replace missing values with \"Unknown\". |\n",
        "| sale_price  | Discrete. </br>The sale price of the house in whole dollars. Values can be any positive number greater than or equal to zero.</br>Remove missing entries. |\n",
        "| sale_date   | Discrete. </br>The date of the last sale of the house. </br>Replace missing values with 2023-01-01. |\n",
        "| months_listed  | Continuous. </br>The number of months the house was listed on the market prior to its last sale, rounded to one decimal place. </br>Replace missing values with mean number of months listed, to one decimal place. |\n",
        "| bedrooms    | Discrete. </br>The number of bedrooms in the house. Any positive values greater than or equal to zero. </br>Replace missing values with the mean number of bedrooms, rounded to the nearest integer. |\n",
        "| house_type   | Ordinal. </br>One of \"Terraced\" (two shared walls), \"Semi-detached\" (one shared wall), or \"Detached\" (no shared walls). </br>Replace missing values with the most common house type. |\n",
        "| area      | Continuous. </br>The area of the house in square meters, rounded to one decimal place. </br>Replace missing values with the mean, to one decimal place. |\n"
      ],
      "metadata": {
        "id": "xcCaO55TUsa1"
      }
    },
    {
      "cell_type": "markdown",
      "source": [
        "# Task 1\n",
        "\n",
        "The team at RealAgents knows that the city that a property is located in makes a difference to the sale price.\n",
        "\n",
        "Unfortuntately they believe that this isn't always recorded in the data.\n",
        "\n",
        "Calculate the number of missing values of the `city`.\n",
        "\n",
        " - You should use the data in the file \"house_sales.csv\".\n",
        "\n",
        " - Your output should be an object `missing_city`, that contains the number of missing values in this column."
      ],
      "metadata": {
        "id": "yoXsqpFqUsd1"
      }
    },
    {
      "cell_type": "code",
      "source": [
        "# Use this cell to write your code for Task 1\n",
        "import pandas as pd\n",
        "df = pd.read_csv(\"house_sales.csv\")\n",
        "df[\"city\"].unique()\n",
        "city_na = df[df[\"city\"] == \"--\"]\n",
        "missing_city = city_na.shape[0] #73"
      ],
      "metadata": {
        "id": "jsUOCAZ3U829"
      },
      "execution_count": null,
      "outputs": []
    },
    {
      "cell_type": "markdown",
      "source": [
        "# Task 2\n",
        "\n",
        "Before you fit any models, you will need to make sure the data is clean.\n",
        "\n",
        "The table below shows what the data should look like.\n",
        "\n",
        "Create a cleaned version of the dataframe.\n",
        "\n",
        " - You should start with the data in the file \"house_sales.csv\".\n",
        "\n",
        " - Your output should be a dataframe named `clean_data`.\n",
        "\n",
        " - All column names and values should match the table below.\n",
        "\n",
        "\n",
        "| Column Name | Criteria                                                |\n",
        "|-------------|---------------------------------------------------------|\n",
        "| house_id    | Nominal. </br> Unique identifier for houses. </br>Missing values not possible. |\n",
        "| city        | Nominal. </br>The city in which the house is located. One of 'Silvertown', 'Riverford', 'Teasdale' and 'Poppleton' </br>Replace missing values with \"Unknown\". |\n",
        "| sale_price  | Discrete. </br>The sale price of the house in whole dollars. Values can be any positive number greater than or equal to zero.</br>Remove missing entries. |\n",
        "| sale_date   | Discrete. </br>The date of the last sale of the house. </br>Replace missing values with 2023-01-01. |\n",
        "| months_listed  | Continuous. </br>The number of months the house was listed on the market prior to its last sale, rounded to one decimal place. </br>Replace missing values with mean number of months listed, to one decimal place. |\n",
        "| bedrooms    | Discrete. </br>The number of bedrooms in the house. Any positive values greater than or equal to zero. </br>Replace missing values with the mean number of bedrooms, rounded to the nearest integer. |\n",
        "| house_type   | Ordinal. </br>One of \"Terraced\", \"Semi-detached\", or \"Detached\". </br>Replace missing values with the most common house type. |\n",
        "| area      | Continuous. </br>The area of the house in square meters, rounded to one decimal place. </br>Replace missing values with the mean, to one decimal place. |"
      ],
      "metadata": {
        "id": "zQoaQJFfU9YM"
      }
    },
    {
      "cell_type": "code",
      "source": [
        "# Use this cell to write your code for Task 2\n",
        "\n",
        "import pandas as pd\n",
        "df = pd.read_csv(\"house_sales.csv\")\n",
        "\n",
        "### house_id | clean | changing to str?\n",
        "# df[\"house_id\"] = df[\"house_id\"].astype(str)\n",
        "\n",
        "\n",
        "### city\n",
        "df[\"city\"].unique()\n",
        "city_map = {\"--\" : \"Unknown\"}\n",
        "df[\"city\"] = df[\"city\"].replace(city_map)\n",
        "df[\"city\"].unique()\n",
        "\n",
        "\n",
        "### sale_price | clean\n",
        "\n",
        "\n",
        "### sale_date | clean | to datetime?\n",
        "# df[\"sale_date\"] = pd.to_datetime(df[\"sale_date\"])\n",
        "# df[\"sale_date\"].info()\n",
        "\n",
        "### months_listed  | replacing nan with mean\n",
        "df[\"months_listed\"].unique()\n",
        "mean_month_listed = round(df[\"months_listed\"].mean(), 1)\n",
        "df[\"months_listed\"] = df[\"months_listed\"].fillna(mean_month_listed)\n",
        "\n",
        "### bedrooms | clean\n",
        "\n",
        "\n",
        "### house_type | consolidating unorganised categories into 3\n",
        "df[\"house_type\"].unique()\n",
        "house_type_map = {\"Det.\" : \"Detached\",\n",
        "                  \"Semi\" : \"Semi-detached\",\n",
        "                  \"Terr.\" : \"Terraced\"\n",
        "                 }\n",
        "df[\"house_type\"] = df[\"house_type\"].replace(house_type_map)\n",
        "\n",
        "\n",
        "### area  | removing sqm and converting to float\n",
        "df[\"area\"].unique()\n",
        "df['area'] = df['area'].str.replace(' sq.m.', '')\n",
        "df[\"area\"] = df[\"area\"].astype(float)\n",
        "\n",
        "\n",
        "# df.info()\n",
        "\n",
        "clean_data = df"
      ],
      "metadata": {
        "id": "TC67Pz7XVBFc"
      },
      "execution_count": null,
      "outputs": []
    },
    {
      "cell_type": "markdown",
      "source": [
        "# Task 3\n",
        "\n",
        "The team at RealAgents have told you that they have always believed that the number of bedrooms is the biggest driver of house price.\n",
        "\n",
        "Producing a table showing the difference in the average sale price by number of bedrooms along with the variance to investigate this question for the team.\n",
        "\n",
        " - You should start with the data in the file 'house_sales.csv'.\n",
        "\n",
        " - Your output should be a data frame named `price_by_rooms`.\n",
        "\n",
        " - It should include the three columns `bedrooms`, `avg_price`, `var_price`.\n",
        "\n",
        " - Your answers should be rounded to 1 decimal place.   "
      ],
      "metadata": {
        "id": "tR50SEciVSba"
      }
    },
    {
      "cell_type": "code",
      "source": [
        "# Use this cell to write your code for Task 3\n",
        "import pandas as pd\n",
        "df = pd.read_csv(\"house_sales.csv\")\n",
        "\n",
        "df_grouped = df.groupby('bedrooms').agg(\n",
        "    avg_price=('sale_price', 'mean'),    # Calculate average spend\n",
        "    var_price=('sale_price', 'var')      # Calculate variance of spend\n",
        ")\n",
        "\n",
        "# Step 2: Reset the index to make 'bedrooms' a column if needed\n",
        "df_grouped = df_grouped.reset_index()\n",
        "\n",
        "# Step 3: Create the new DataFrame with the required columns\n",
        "price_by_rooms = df_grouped[['bedrooms', 'avg_price', 'var_price']]\n",
        "price_by_rooms[\"avg_price\"] = round(price_by_rooms[\"avg_price\"], 1)\n",
        "price_by_rooms[\"var_price\"] = round(price_by_rooms[\"var_price\"], 1)\n",
        "\n",
        "#Display the new DataFrame\n",
        "print(price_by_rooms)\n"
      ],
      "metadata": {
        "id": "7tNbQ6oXVVew"
      },
      "execution_count": null,
      "outputs": []
    },
    {
      "cell_type": "markdown",
      "source": [
        "# Task 4\n",
        "\n",
        "Fit a baseline model to predict the sale price of a house.\n",
        "\n",
        " 1. Fit your model using the data contained in “train.csv” </br></br>\n",
        "\n",
        " 2. Use “validation.csv” to predict new values based on your model. You must return a dataframe named `base_result`, that includes `house_id` and `price`. The price column must be your predicted values."
      ],
      "metadata": {
        "id": "6t63f5y0Vdj3"
      }
    },
    {
      "cell_type": "code",
      "source": [
        "# Use this cell to write your code for Task 4\n",
        "\n",
        "\n",
        "import pandas as pd\n",
        "import numpy as np\n",
        "from sklearn.linear_model import LinearRegression\n",
        "\n",
        "# Import data\n",
        "train = pd.read_csv('train.csv')\n",
        "val = pd.read_csv('validation.csv')\n",
        "\n",
        "# onehot encoding for categorial col\n",
        "train = pd.get_dummies(train, columns=[\"city\", \"house_type\"])\n",
        "val = pd.get_dummies(val, columns=[\"city\", \"house_type\"])\n",
        "\n",
        "# lowering the cases of col\n",
        "train.columns = [x.lower() for x in train.columns]\n",
        "val.columns = [x.lower() for x in val.columns]\n",
        "\n",
        "# drop house_id\n",
        "train_noid = train.drop(columns=['house_id', 'sale_date'])\n",
        "val_noid = val.drop(columns=['house_id', 'sale_date'])\n",
        "\n",
        "# # synthetically creating \"spend\" for val_noid\n",
        "# val_noid['sale_price'] = np.nan\n",
        "# val_noid['sale_price'].fillna(0, inplace=True)\n",
        "\n",
        "# Instantiate the linear model\n",
        "model = LinearRegression()\n",
        "\n",
        "# Create X and y variables\n",
        "X = train_noid.drop('sale_price', axis=1).values\n",
        "y = train_noid['sale_price'].values\n",
        "\n",
        "# Fit the model to the training data\n",
        "model.fit(X, y)\n",
        "\n",
        "# Predict values based on val_data\n",
        "predicted_price = model.predict(val_noid)\n",
        "\n",
        "# Create dataframe of predicted values\n",
        "base_result = pd.DataFrame({'house_id':val['house_id'],\n",
        "                            'price':predicted_price})\n",
        "print(base_result.head())"
      ],
      "metadata": {
        "id": "c7Kpby8_VtdU"
      },
      "execution_count": null,
      "outputs": []
    },
    {
      "cell_type": "markdown",
      "source": [
        "# Task 5\n",
        "\n",
        "Fit a comparison model to predict the sale price of a house.\n",
        "\n",
        " 1. Fit your model using the data contained in “train.csv” </br></br>\n",
        "\n",
        " 2. Use “validation.csv” to predict new values based on your model. You must return a dataframe named `compare_result`, that includes `house_id` and `price`. The price column must be your predicted values."
      ],
      "metadata": {
        "id": "I5OADfs3VuSf"
      }
    },
    {
      "cell_type": "code",
      "source": [
        "# Use this cell to write your code for Task 5\n",
        "from sklearn.ensemble import RandomForestRegressor\n",
        "from sklearn.compose import ColumnTransformer\n",
        "from sklearn.preprocessing import OneHotEncoder\n",
        "from sklearn.pipeline import Pipeline\n",
        "import pandas as pd\n",
        "\n",
        "# Load the training and validation datasets\n",
        "train_df_comparison = pd.read_csv('train.csv')\n",
        "validation_df_comparison = pd.read_csv('validation.csv')\n",
        "\n",
        "# Preparing the data for the comparison model\n",
        "X_comparison = train_df_comparison.drop(columns=['house_id', 'sale_price', 'sale_date'])\n",
        "y_comparison = train_df_comparison['sale_price']\n",
        "\n",
        "# Identifying categorical columns in the dataset for the comparison model\n",
        "categorical_cols_comparison = [col for col in X_comparison.columns if X_comparison[col].dtype == 'object']\n",
        "\n",
        "# Creating a transformer for preprocessing in the dataset for the comparison model\n",
        "preprocessor_comparison = ColumnTransformer(\n",
        "transformers=[\n",
        "('cat', OneHotEncoder(handle_unknown='ignore'), categorical_cols_comparison),\n",
        "],\n",
        "remainder='passthrough' # keeping other columns untouched\n",
        ")\n",
        "\n",
        "# Creating a pipeline with preprocessing and the Random Forest Regressor for the comparison model\n",
        "model_comparison = Pipeline(steps=[\n",
        "('preprocessor', preprocessor_comparison),\n",
        "('regressor', RandomForestRegressor(n_estimators=100, random_state=42))\n",
        "])\n",
        "\n",
        "# Fitting the model with the dataset for the comparison model\n",
        "model_comparison.fit(X_comparison, y_comparison)\n",
        "print(\"Comparison model (Random Forest Regressor) trained successfully.\")\n",
        "\n",
        "# Preparing the validation data (similar to the training data preparation for the comparison model)\n",
        "X_validation_comparison = validation_df_comparison.drop(columns=['house_id', 'sale_date'])\n",
        "\n",
        "# Making predictions using the trained comparison model\n",
        "validation_df_comparison['price'] = model_comparison.predict(X_validation_comparison)\n",
        "\n",
        "# Creating the compare_result DataFrame with house_id and predicted price\n",
        "compare_result = validation_df_comparison[['house_id', 'price']]\n",
        "\n",
        "# Displaying the first few rows of the compare_result DataFrame\n",
        "print(compare_result.head())"
      ],
      "metadata": {
        "id": "mXOomMCfVwUm"
      },
      "execution_count": null,
      "outputs": []
    }
  ]
}