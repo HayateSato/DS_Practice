{
  "nbformat": 4,
  "nbformat_minor": 0,
  "metadata": {
    "colab": {
      "provenance": [],
      "authorship_tag": "ABX9TyOPBNot0nEMcF85yYvRYhdO",
      "include_colab_link": true
    },
    "kernelspec": {
      "name": "python3",
      "display_name": "Python 3"
    },
    "language_info": {
      "name": "python"
    }
  },
  "cells": [
    {
      "cell_type": "markdown",
      "metadata": {
        "id": "view-in-github",
        "colab_type": "text"
      },
      "source": [
        "<a href=\"https://colab.research.google.com/github/HayateSato/DS_Practice/blob/main/Learning_PyTorch.ipynb\" target=\"_parent\"><img src=\"https://colab.research.google.com/assets/colab-badge.svg\" alt=\"Open In Colab\"/></a>"
      ]
    },
    {
      "cell_type": "code",
      "execution_count": 3,
      "metadata": {
        "colab": {
          "base_uri": "https://localhost:8080/"
        },
        "id": "9IzifK7qnfmq",
        "outputId": "b881f6d3-fea8-4976-8163-2fd5673176a4"
      },
      "outputs": [
        {
          "output_type": "stream",
          "name": "stdout",
          "text": [
            "tensor([1, 2, 3, 4])\n",
            "cpu\n",
            "torch.int64\n"
          ]
        }
      ],
      "source": [
        "# Import PyTorch\n",
        "import torch\n",
        "\n",
        "list_a = [1, 2, 3, 4]\n",
        "\n",
        "# Create a tensor from list_a\n",
        "tensor_a = torch.tensor(list_a)\n",
        "list_a\n",
        "\n",
        "print(tensor_a)\n",
        "\n",
        "# Display the tensor device\n",
        "print(tensor_a.device)\n",
        "\n",
        "# Display the tensor data type\n",
        "print(tensor_a.dtype)"
      ]
    },
    {
      "cell_type": "markdown",
      "source": [
        "### Tensor can be calculated like numpy array"
      ],
      "metadata": {
        "id": "rTJvgtRzpgfo"
      }
    },
    {
      "cell_type": "code",
      "source": [
        "array_a = [1, 2, 3, 4]\n",
        "array_b = [5, 6, 7, 8]\n",
        "\n",
        "# Create two tensors from the arrays\n",
        "tensor_a = torch.tensor(array_a)\n",
        "tensor_b = torch.tensor(array_b)\n",
        "print(f\"a: {tensor_a}\")\n",
        "print(f\"b: {tensor_b}\")\n",
        "\n",
        "# Subtract tensor_b from tensor_a\n",
        "tensor_c = tensor_a - tensor_b\n",
        "print(f\"c: {tensor_c}\")\n",
        "\n",
        "# Multiply each element of tensor_a with each element of tensor_b\n",
        "tensor_d = tensor_a * tensor_b\n",
        "print(f\"d: {tensor_d}\")\n",
        "\n",
        "# Add tensor_c to tensor_d\n",
        "tensor_e = tensor_c + tensor_d\n",
        "print(f\"e: {tensor_e}\")\n",
        "\n",
        "# concatenating\n",
        "tensor_f = torch.cat((tensor_a, tensor_b))\n",
        "print(f\"f: {tensor_f}\")"
      ],
      "metadata": {
        "colab": {
          "base_uri": "https://localhost:8080/"
        },
        "id": "qVlGSWpxoLWG",
        "outputId": "24a50723-b88a-43e5-b215-f436fde97966"
      },
      "execution_count": 9,
      "outputs": [
        {
          "output_type": "stream",
          "name": "stdout",
          "text": [
            "a: tensor([1, 2, 3, 4])\n",
            "b: tensor([5, 6, 7, 8])\n",
            "c: tensor([-4, -4, -4, -4])\n",
            "d: tensor([ 5, 12, 21, 32])\n",
            "e: tensor([ 1,  8, 17, 28])\n",
            "f: tensor([1, 2, 3, 4, 5, 6, 7, 8])\n"
          ]
        }
      ]
    },
    {
      "cell_type": "markdown",
      "source": [
        "#### Nueral Netowork"
      ],
      "metadata": {
        "id": "TZkyv0ImpsEZ"
      }
    },
    {
      "cell_type": "code",
      "source": [
        "import torch.nn as nn\n",
        "\n",
        "input_tensor = torch.Tensor([[2, 3, 6, 7, 9, 3, 2, 1]])\n",
        "\n",
        "# Implement a small neural network with exactly two linear layers\n",
        "model = nn.Sequential(\n",
        "    nn.Linear(8, 1),\n",
        "    nn.Linear(1, 1)\n",
        "                     )\n",
        "\n",
        "output = model(input_tensor)\n",
        "print(output)"
      ],
      "metadata": {
        "colab": {
          "base_uri": "https://localhost:8080/"
        },
        "id": "2ueCI-rdpvKZ",
        "outputId": "32b96538-1afd-43e0-b534-f05ae1015be8"
      },
      "execution_count": 10,
      "outputs": [
        {
          "output_type": "stream",
          "name": "stdout",
          "text": [
            "tensor([[-4.3230]], grad_fn=<AddmmBackward0>)\n"
          ]
        }
      ]
    },
    {
      "cell_type": "markdown",
      "source": [
        "### sigmoid function"
      ],
      "metadata": {
        "id": "LKPfY7BNqX5e"
      }
    },
    {
      "cell_type": "code",
      "source": [],
      "metadata": {
        "id": "iAFL4lRwqbDg"
      },
      "execution_count": null,
      "outputs": []
    }
  ]
}